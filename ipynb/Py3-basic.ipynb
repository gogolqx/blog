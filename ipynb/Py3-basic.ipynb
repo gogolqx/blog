{
 "cells": [
  {
   "cell_type": "markdown",
   "metadata": {},
   "source": [
    "本文简要记录了 Python 3 的语法。\n",
    "\n",
    "<!-- more -->\n",
    "\n",
    "## 介绍\n",
    "\n",
    "Python 是一门独特的语言，快速浏览一下他的要点：\n",
    "\n",
    "- **面向对象**：每一个变量都是一个类，有其自己的**属性（attribute）**与**方法（method）**。\n",
    "- **语法块**：用缩进（四个空格）而不是分号、花括号等符号来标记。因此，行首的空格不能随意书写。\n",
    "- **注释**：行内用“#”号，行间注释写在两组连续三单引号之间：'''\n",
    "- **续行**：行尾输入一个反斜杠加一个空格（'\\ '），再换行。如果行尾语法明显未完成（比如以逗号结尾），可以直接续行。\n",
    "- **打印与输入**： 函数 print() 与 input() \n",
    "- **变量**：无需指定变量类型，也不需要提前声明变量。\n",
    "    - 删除变量：del()\n",
    "    - 复制变量：直接将变量a赋值给b，有时仅仅复制了一个“引用”。此后 b 与 a 的改动仍会互相影响。必要时使用 `a is b` 来判断是否同址。\n",
    "- **模块**：通过 `import pandas` 的方式加载模块（或者 `import pandas as pd`），并用形如 `pandas.DataFrame`（或 `pd.DataFrame`）的方式调用模块内的方法。也可以使用 `from pandas import DataFrame` 的方式，这样在下文可以直接使用 `DataFrame` 作为调用名。\n",
    "- **帮助**：配合使用 dir() 与 help() 命令；其中前者是输出变量所有的成员。以及查阅 [官网页面](https://docs.python.org/3/)。\n",
    "\n",
    "变量复制的一个例子。"
   ]
  },
  {
   "cell_type": "code",
   "execution_count": 1,
   "metadata": {},
   "outputs": [
    {
     "name": "stdout",
     "output_type": "stream",
     "text": [
      "0\n"
     ]
    }
   ],
   "source": [
    "a = [1, 2]\n",
    "b = a\n",
    "print(id(a) - id(b))  # 地址差为 0，表示实质是同址的"
   ]
  },
  {
   "cell_type": "code",
   "execution_count": 2,
   "metadata": {},
   "outputs": [
    {
     "name": "stdout",
     "output_type": "stream",
     "text": [
      "[1, 2, 3]\n"
     ]
    }
   ],
   "source": [
    "b.append(3)\n",
    "print(a)  # 只改动了 b，但 a 也跟着变动了"
   ]
  },
  {
   "cell_type": "code",
   "execution_count": 3,
   "metadata": {},
   "outputs": [
    {
     "data": {
      "text/plain": [
       "True"
      ]
     },
     "execution_count": 3,
     "metadata": {},
     "output_type": "execute_result"
    }
   ],
   "source": [
    "a is b"
   ]
  },
  {
   "cell_type": "markdown",
   "metadata": {},
   "source": [
    "使用切片来重新分配空间："
   ]
  },
  {
   "cell_type": "code",
   "execution_count": 4,
   "metadata": {},
   "outputs": [
    {
     "data": {
      "text/plain": [
       "False"
      ]
     },
     "execution_count": 4,
     "metadata": {},
     "output_type": "execute_result"
    }
   ],
   "source": [
    "a is a[:]"
   ]
  },
  {
   "cell_type": "markdown",
   "metadata": {},
   "source": [
    "## 数据结构\n",
    "\n",
    "Python 原生的数据结构包括："
   ]
  },
  {
   "cell_type": "markdown",
   "metadata": {},
   "source": [
    "### 数字（num）\n",
    "\n",
    "细分为整数（int）与浮点数（float）两种。\n",
    "\n",
    "- 四则运算：`+`， `-`， `*`， `/` ，乘方： `**`\n",
    "- 整除： `5 // 2 = 2`，取余：`5 % 2 = 1`\n",
    "- 自运算： `a += 1` （四则与乘方均可类似自运算）\n",
    "  \n",
    "以及一些细节：\n",
    "\n",
    "- 运算两数中只要有一个浮点数，结果就是浮点数；\n",
    "- 整数相除，即使能除尽，结果也是浮点数；\n",
    "- Python 内部的机制解决了整数溢出的问题，不用担心。"
   ]
  },
  {
   "cell_type": "markdown",
   "metadata": {},
   "source": [
    "### 布尔（bool）与逻辑\n",
    "\n",
    "首字母大写 True / False. \n",
    "\n",
    "- 逻辑运算符：与 `A and B`，或 `A or B`，非 `not A`\n",
    "- 逻辑关系符：等于 `==`， 不等于 `!=`. 其他不赘述。\n",
    "- 几种逻辑判断例子：\n",
    "\n",
    "| 变量 x | a = [] | b = 0 | c = 2 |\n",
    "| --- | --- | --- | --- |\n",
    "| bool(x) | False | False | True |\n",
    "| if x: ... | False | False | True | \n",
    "| if x is None: ... | False | False | False |"
   ]
  },
  {
   "cell_type": "markdown",
   "metadata": {},
   "source": [
    "### 序列（sequence）\n",
    "\n",
    "序列主要包括**字符串（str）、列表（list）与元祖（tuple）**三类。\n",
    "\n",
    "- 序列索引规则：\n",
    "    - 索引从0开始，到 N-1 结束。\n",
    "    - 切片：切片的索引是**左闭右开**的。\n",
    "      seq[0:2]（从 0 到 1），seq[2:]（从 2 到尾），seq[:3] （从头到 2），seq[:]（全部）。\n",
    "    - 索引允许负数：seq(-1) 与 seq(N - 1) 等同，seq(-3:-1)与 seq(N-3:N-1) 等同。\n",
    "- 序列通用函数：\n",
    "    - `len()`：返回序列长度。\n",
    "    - `+/*` ：加号用于连接两个序列，乘号重复排列若干次再连接。\n",
    "    - `seq1 in seq2`：如果 seq1 这个片段可以在 seq2 中被找到，返回 True.\n",
    "    - `index`：在 `seq1 in seq2` 为 True 时使用，`seq2.index(seq1)` 表示 seq1 首次出现于 seq2 中的位置。\n",
    "    - `max()/min()`：返回序列中的最值。如果不是数字，则按 ASCII 码顺序返回。\n",
    "    - `cmp(seq1, seq2)`：比较大小。结果为负，则表示 seq1 较小。"
   ]
  },
  {
   "cell_type": "markdown",
   "metadata": {},
   "source": [
    "#### 字符串（str）\n",
    "\n",
    "写于一对双引号或单引号内。用 str() 可以强制转换为字符串。\n",
    "\n",
    "- 转义：反斜杠。如果强制不解释字符串，在左引号前加字母 r 即可： `r\"c:\\new\"`.\n",
    "- 分割与连接：`**.split()` 与 `**.join()`."
   ]
  },
  {
   "cell_type": "code",
   "execution_count": 5,
   "metadata": {},
   "outputs": [
    {
     "name": "stdout",
     "output_type": "stream",
     "text": [
      "['', 'I', 'love', 'Python'] \n",
      " -I-love-Python\n"
     ]
    }
   ],
   "source": [
    "s = \" I love Python\"  # 首位是空格\n",
    "lst = s.split(' ')\n",
    "lst1 = '-'.join(lst)\n",
    "\n",
    "print(lst, '\\n', lst1)"
   ]
  },
  {
   "cell_type": "markdown",
   "metadata": {},
   "source": [
    "- 紧切：`strip()` 去掉字符串首尾两端的空格。方法 lstrip()/rstrip() 则只切除首端/尾端的空格。"
   ]
  },
  {
   "cell_type": "code",
   "execution_count": 6,
   "metadata": {},
   "outputs": [
    {
     "data": {
      "text/plain": [
       "'I love Python'"
      ]
     },
     "execution_count": 6,
     "metadata": {},
     "output_type": "execute_result"
    }
   ],
   "source": [
    "s.strip()"
   ]
  },
  {
   "cell_type": "markdown",
   "metadata": {},
   "source": [
    "- 大小写转换：如下几个方法：\n",
    "    - 首字母大写：s.title()\n",
    "    - 全大写：s.upper()\n",
    "    - 全小写：s.lower()\n",
    "    - 句首大写：s.capitalize()\n",
    "- 格式化：字符串格式化是一种实用功能。通过 `.format()` 成员函数完成。"
   ]
  },
  {
   "cell_type": "code",
   "execution_count": 7,
   "metadata": {},
   "outputs": [
    {
     "data": {
      "text/plain": [
       "'I like Python and you'"
      ]
     },
     "execution_count": 7,
     "metadata": {},
     "output_type": "execute_result"
    }
   ],
   "source": [
    "'I like {} and {}'.format('Python', 'you')"
   ]
  },
  {
   "cell_type": "code",
   "execution_count": 8,
   "metadata": {},
   "outputs": [
    {
     "data": {
      "text/plain": [
       "'10 + Python  = 20'"
      ]
     },
     "execution_count": 8,
     "metadata": {},
     "output_type": "execute_result"
    }
   ],
   "source": [
    "'{0} + {2} = {1}'.format (10, 20, 'Python ')  # 按顺序引用"
   ]
  },
  {
   "cell_type": "code",
   "execution_count": 9,
   "metadata": {},
   "outputs": [
    {
     "data": {
      "text/plain": [
       "'10 * Python  = 10'"
      ]
     },
     "execution_count": 9,
     "metadata": {},
     "output_type": "execute_result"
    }
   ],
   "source": [
    "'{0} * {1} = {0}'.format (10, 'Python ')  # 编号反复引用"
   ]
  },
  {
   "cell_type": "markdown",
   "metadata": {},
   "source": [
    "格式化控制码：\n",
    "\n",
    "| 控制码 | 含义 | 控制码 | 含义 |\n",
    "| --- | --- | --- | --- |\n",
    "| :s | 字符串 | :c | 单个字符 |\n",
    "| :b/o/x/d | 二、八、十六、十进制数 | :e/f | 科学计数法/浮点数 |\n",
    "\n",
    "一些复杂控制的例子：\n",
    "\n",
    "| 例子 | 含义 | 例子 | 含义 |\n",
    "| --- | --- | --- | --- |\n",
    "| :.2f/:+.2f | 两位小数/带符号两位小数 | : .2f | 正数前补空格的两位小数 |\n",
    "| :, | 逗号分隔符 | :.2% | 百分比两位小数 |\n",
    "| :.2e | 科学计数法两位小数 | :^4d | 总宽四位居中对齐 |\n",
    "| :>4d/<4d | 总宽四位左/右对齐 | :0>4d | 总宽四位左侧补零 |\n",
    "\n",
    "举例："
   ]
  },
  {
   "cell_type": "code",
   "execution_count": 10,
   "metadata": {},
   "outputs": [
    {
     "data": {
      "text/plain": [
       "'0123.40 is an odd number'"
      ]
     },
     "execution_count": 10,
     "metadata": {},
     "output_type": "execute_result"
    }
   ],
   "source": [
    "\"{:0>7.2f} is an odd number\".format(123.4)  # 总宽 7 位小数点后 2 位，左侧补零"
   ]
  },
  {
   "cell_type": "markdown",
   "metadata": {},
   "source": [
    "其他实用的字符串函数：\n",
    "- str.replace(old, new[, times])：将字符串中前 times 个 old 子串替换为 new。Times 不指定时默认替换全部。\n",
    "- str.isdigit()：判断字符串是否每一位都是数字，返回 True 或者 False。\n",
    "\n",
    "字符串中正则表达式的内容参见本文附录。"
   ]
  },
  {
   "cell_type": "markdown",
   "metadata": {},
   "source": [
    "#### 列表（list）\n",
    "\n",
    "中括号式的结构。list() 用于强制转换类型。"
   ]
  },
  {
   "cell_type": "code",
   "execution_count": 11,
   "metadata": {},
   "outputs": [
    {
     "name": "stdout",
     "output_type": "stream",
     "text": [
      "[1, 2, 3]\n"
     ]
    }
   ],
   "source": [
    "lst = [1, 2, 3]\n",
    "print(lst)"
   ]
  },
  {
   "cell_type": "code",
   "execution_count": 12,
   "metadata": {},
   "outputs": [
    {
     "name": "stdout",
     "output_type": "stream",
     "text": [
      "[3, 2, 1] [3, 2, 1]\n"
     ]
    }
   ],
   "source": [
    "# 【反转】：其中第二种方式会更改现有的列表\n",
    "lst1 = list(reversed(lst))\n",
    "lst.reverse()\n",
    "print(lst1, lst)"
   ]
  },
  {
   "cell_type": "code",
   "execution_count": 13,
   "metadata": {},
   "outputs": [
    {
     "name": "stdout",
     "output_type": "stream",
     "text": [
      "[3, 2, 1, 4]\n"
     ]
    }
   ],
   "source": [
    "# 【追加】：元素 append()，另一个列表：extend()\n",
    "lst.append(4)\n",
    "print(lst)"
   ]
  },
  {
   "cell_type": "code",
   "execution_count": 14,
   "metadata": {},
   "outputs": [
    {
     "name": "stdout",
     "output_type": "stream",
     "text": [
      "[3, 2, 1, 4, 3, 2, 1]\n"
     ]
    }
   ],
   "source": [
    "lst.extend(lst1)\n",
    "print(lst)"
   ]
  },
  {
   "cell_type": "code",
   "execution_count": 15,
   "metadata": {},
   "outputs": [
    {
     "name": "stdout",
     "output_type": "stream",
     "text": [
      "[3, 100, 2, 1, 4, 3, 2, 1]\n"
     ]
    }
   ],
   "source": [
    "# 【插入】：lst.insert(idx, obj) 会在 lst[idx] 处插入 obj，然后依次后移原有项\n",
    "lst.insert(1, 100)\n",
    "print(lst)"
   ]
  },
  {
   "cell_type": "code",
   "execution_count": 16,
   "metadata": {},
   "outputs": [
    {
     "name": "stdout",
     "output_type": "stream",
     "text": [
      "[3, 100, 1, 4, 3, 2, 1]\n"
     ]
    }
   ],
   "source": [
    "# 【删除】：lst.remove(obj) 会删除首个匹配值，若无匹配会报错；\n",
    "#           lst.pop(idx) 会返回 lst[idx]，并将其删除。如果不指定 idx，默认为列表尾\n",
    "lst.remove(2)\n",
    "print(lst)"
   ]
  },
  {
   "cell_type": "code",
   "execution_count": 17,
   "metadata": {},
   "outputs": [
    {
     "name": "stdout",
     "output_type": "stream",
     "text": [
      "[3, 100, 1, 4, 3, 2] \n",
      " 1\n"
     ]
    }
   ],
   "source": [
    "tmp = lst.pop()\n",
    "print(lst, \"\\n\", tmp)"
   ]
  },
  {
   "cell_type": "code",
   "execution_count": 18,
   "metadata": {},
   "outputs": [
    {
     "name": "stdout",
     "output_type": "stream",
     "text": [
      "[100, 4, 3, 3, 2, 1]\n"
     ]
    }
   ],
   "source": [
    "# 【搜索】：使用序列通用函数即可。用 count(obj) 可以计算频数。\n",
    "# 【排序】：sort() 方法。如果指定 reverse 参数，可降序排序。\n",
    "lst.sort(reverse=True)\n",
    "print(lst)"
   ]
  },
  {
   "cell_type": "code",
   "execution_count": 19,
   "metadata": {},
   "outputs": [
    {
     "name": "stdout",
     "output_type": "stream",
     "text": [
      "[]\n"
     ]
    }
   ],
   "source": [
    "# 【清空】：clear()\n",
    "lst.clear()\n",
    "print(lst)"
   ]
  },
  {
   "cell_type": "markdown",
   "metadata": {},
   "source": [
    "#### 元组（tuple）\n",
    "\n",
    "圆括号式的结构，是一种**不可变**序列。"
   ]
  },
  {
   "cell_type": "code",
   "execution_count": 20,
   "metadata": {},
   "outputs": [
    {
     "name": "stdout",
     "output_type": "stream",
     "text": [
      "(1, 'string ', [1, 2])\n"
     ]
    }
   ],
   "source": [
    "a = (1, 'string ', [1 ,2])\n",
    "print(a)"
   ]
  },
  {
   "cell_type": "markdown",
   "metadata": {},
   "source": [
    "### 字典（dict）\n",
    "\n",
    "字典是一种类哈希表的数据结构，内部无序，通过键值对（key: value）的形式存储数据。几种字典初始化的方式："
   ]
  },
  {
   "cell_type": "code",
   "execution_count": 21,
   "metadata": {},
   "outputs": [
    {
     "name": "stdout",
     "output_type": "stream",
     "text": [
      "{'name': 'wklchris', 'gender': 'male'} \n",
      " {'name': 'wklchris'} \n",
      " {'name': 'NA', 'gender': 'NA'}\n"
     ]
    }
   ],
   "source": [
    "# 小字典直接赋值\n",
    "d1 = {\"name\": \"wklchris\", \"gender\": \"male\"}\n",
    "# 利用字典增加键值对的方法\n",
    "d2 = {}\n",
    "d2['name'] = 'wklchris'\n",
    "# 一个值赋给多个键\n",
    "d3 = {}.fromkeys((\"name\", \"gender\"), \"NA\")\n",
    "\n",
    "print(d1, \"\\n\", d2, \"\\n\", d3)"
   ]
  },
  {
   "cell_type": "markdown",
   "metadata": {},
   "source": [
    "字典的操作方法："
   ]
  },
  {
   "cell_type": "code",
   "execution_count": 22,
   "metadata": {},
   "outputs": [
    {
     "data": {
      "text/plain": [
       "2"
      ]
     },
     "execution_count": 22,
     "metadata": {},
     "output_type": "execute_result"
    }
   ],
   "source": [
    "len(d1)"
   ]
  },
  {
   "cell_type": "code",
   "execution_count": 23,
   "metadata": {},
   "outputs": [
    {
     "data": {
      "text/plain": [
       "False"
      ]
     },
     "execution_count": 23,
     "metadata": {},
     "output_type": "execute_result"
    }
   ],
   "source": [
    "# 【复制】：\n",
    "dd = d1.copy()\n",
    "dd is d1"
   ]
  },
  {
   "cell_type": "code",
   "execution_count": 24,
   "metadata": {},
   "outputs": [
    {
     "data": {
      "text/plain": [
       "True"
      ]
     },
     "execution_count": 24,
     "metadata": {},
     "output_type": "execute_result"
    }
   ],
   "source": [
    "# 【查找键名称】：\n",
    "\"name\" in dd"
   ]
  },
  {
   "cell_type": "code",
   "execution_count": 25,
   "metadata": {
    "collapsed": true
   },
   "outputs": [],
   "source": [
    "# 【删除键值对】\n",
    "del(dd[\"name\"])"
   ]
  },
  {
   "cell_type": "code",
   "execution_count": 26,
   "metadata": {},
   "outputs": [
    {
     "data": {
      "text/plain": [
       "'Nothing'"
      ]
     },
     "execution_count": 26,
     "metadata": {},
     "output_type": "execute_result"
    }
   ],
   "source": [
    "# 【get】\n",
    "dd.get(\"name\", \"Nothing\")  # 如果键不存在，返回“Nothing”"
   ]
  },
  {
   "cell_type": "code",
   "execution_count": 27,
   "metadata": {},
   "outputs": [
    {
     "data": {
      "text/plain": [
       "'wklchris'"
      ]
     },
     "execution_count": 27,
     "metadata": {},
     "output_type": "execute_result"
    }
   ],
   "source": [
    "# 【setdefault】\n",
    "dd.setdefault(\"name\", \"wklchris\")  # 如果键不存在，就新建该键，并赋值"
   ]
  },
  {
   "cell_type": "code",
   "execution_count": 28,
   "metadata": {},
   "outputs": [
    {
     "name": "stdout",
     "output_type": "stream",
     "text": [
      "{'name': 'wklchris', 'gender': 'male'}\n"
     ]
    }
   ],
   "source": [
    "print(dd)"
   ]
  },
  {
   "cell_type": "code",
   "execution_count": 29,
   "metadata": {},
   "outputs": [
    {
     "data": {
      "text/plain": [
       "[('name', 'wklchris'), ('gender', 'male')]"
      ]
     },
     "execution_count": 29,
     "metadata": {},
     "output_type": "execute_result"
    }
   ],
   "source": [
    "# 【输出键值】：\n",
    "list(dd.items())"
   ]
  },
  {
   "cell_type": "code",
   "execution_count": 30,
   "metadata": {},
   "outputs": [
    {
     "data": {
      "text/plain": [
       "['name', 'gender']"
      ]
     },
     "execution_count": 30,
     "metadata": {},
     "output_type": "execute_result"
    }
   ],
   "source": [
    "list(dd.keys())"
   ]
  },
  {
   "cell_type": "code",
   "execution_count": 31,
   "metadata": {},
   "outputs": [
    {
     "data": {
      "text/plain": [
       "['wklchris', 'male']"
      ]
     },
     "execution_count": 31,
     "metadata": {},
     "output_type": "execute_result"
    }
   ],
   "source": [
    "list(dd.values())"
   ]
  },
  {
   "cell_type": "code",
   "execution_count": 32,
   "metadata": {},
   "outputs": [
    {
     "name": "stdout",
     "output_type": "stream",
     "text": [
      "{'name': 'wklchris'} male\n"
     ]
    }
   ],
   "source": [
    "# 【弹出键值对】：pop(key) / popitem(key)\n",
    "# 其中，后者会随机弹出一个键值对\n",
    "tmp = dd.pop(\"gender\")\n",
    "print(dd, tmp)"
   ]
  },
  {
   "cell_type": "code",
   "execution_count": 33,
   "metadata": {},
   "outputs": [
    {
     "name": "stdout",
     "output_type": "stream",
     "text": [
      "{'name': 'Test', 'Age': 3}\n"
     ]
    }
   ],
   "source": [
    "# 【更新】：update(ref_dict) 以 ref_dict 为准，更新当前字典\n",
    "d4 = {\"name\": \"Test\", \"Age\": 3}\n",
    "dd.update(d4)\n",
    "print(dd)"
   ]
  },
  {
   "cell_type": "markdown",
   "metadata": {},
   "source": [
    "### 集合（set）\n",
    "\n",
    "*本文只讨论可变集合，关于不可变集合的内容，参考 `help(frozenset)`。*\n",
    "\n",
    "集合是一种无序的数据存储方式，且内部元素具有唯一性。集合与字典一样都可以用花括号的形式创立。但在书写 `a={}` 时，Python 会将其识别为字典类型。\n",
    "\n",
    "- 增添：add() / update()\n",
    "- 删除：remove() / discard()，区别在于后者搜索无结果会报错。\n",
    "- 从属：a.issubset(b) 集合 a 是否是 b 的子集；a.issuperset(b) 集合 a 是否是 b 的父集。a == b 两集合是否全等。\n",
    "- 集合运算：集合运算不会改变参与运算的集合本身。\n",
    "    - 并集： `a | b` 或者 `a.union(b)`\n",
    "    - 交集： `a & b` 或者 `a.intersection(b)`\n",
    "    - 补集： `a - b` 或者 `a.difference(b)`\n",
    "    \n",
    "注意：在字符串强制转换为集合时，**必要时使用中括号先转为列表**（否则字符串会被拆分为单个字符后再进行转换）。例如："
   ]
  },
  {
   "cell_type": "code",
   "execution_count": 34,
   "metadata": {},
   "outputs": [
    {
     "data": {
      "text/plain": [
       "{'a', 'b', 'c', 'd', 'e'}"
      ]
     },
     "execution_count": 34,
     "metadata": {},
     "output_type": "execute_result"
    }
   ],
   "source": [
    "ss = {\"a\", \"b\", \"c\"}\n",
    "ss | set(\"de\")"
   ]
  },
  {
   "cell_type": "code",
   "execution_count": 35,
   "metadata": {},
   "outputs": [
    {
     "data": {
      "text/plain": [
       "{'a', 'b', 'c', 'de'}"
      ]
     },
     "execution_count": 35,
     "metadata": {},
     "output_type": "execute_result"
    }
   ],
   "source": [
    "ss | set([\"de\"])"
   ]
  },
  {
   "cell_type": "markdown",
   "metadata": {},
   "source": [
    "## 基本语句\n",
    "\n",
    "同大多数程序语言一样，Python 拥有 if, for, while 语句。什么？switch 语句？使用字典就好。"
   ]
  },
  {
   "cell_type": "markdown",
   "metadata": {},
   "source": [
    "### if 语句与三元操作\n",
    "\n",
    "在 Python 中，else if 被缩写为单个关键词 elif."
   ]
  },
  {
   "cell_type": "code",
   "execution_count": 36,
   "metadata": {},
   "outputs": [
    {
     "data": {
      "text/plain": [
       "3"
      ]
     },
     "execution_count": 36,
     "metadata": {},
     "output_type": "execute_result"
    }
   ],
   "source": [
    "if 1.0 > 1:\n",
    "    a = 1\n",
    "elif 1.0 < 1:\n",
    "    a = 2\n",
    "else:\n",
    "    a = 3\n",
    "    \n",
    "a"
   ]
  },
  {
   "cell_type": "markdown",
   "metadata": {},
   "source": [
    "三元操作实质是高度简化的 if 环境，形如 X = a if flag else b："
   ]
  },
  {
   "cell_type": "code",
   "execution_count": 37,
   "metadata": {},
   "outputs": [
    {
     "data": {
      "text/plain": [
       "2"
      ]
     },
     "execution_count": 37,
     "metadata": {},
     "output_type": "execute_result"
    }
   ],
   "source": [
    "a = 1 if 2 < 1 else 2\n",
    "a"
   ]
  },
  {
   "cell_type": "markdown",
   "metadata": {},
   "source": [
    "### for 语句\n",
    "\n",
    "for 语句借助关键词 in 使用：（函数 range(N, M=0, s=1) 是一个生成等差数列的函数，位于左闭右开区间 $[M, N)$ 上且公差为 s）。"
   ]
  },
  {
   "cell_type": "code",
   "execution_count": 38,
   "metadata": {},
   "outputs": [
    {
     "name": "stdout",
     "output_type": "stream",
     "text": [
      "0\n",
      "1\n",
      "2\n"
     ]
    }
   ],
   "source": [
    "for i in range(3):\n",
    "    print(i)"
   ]
  },
  {
   "cell_type": "markdown",
   "metadata": {},
   "source": [
    "注意到字典的 d.items(), d.keys(), d.values() 命令也常常用于 for 语句："
   ]
  },
  {
   "cell_type": "code",
   "execution_count": 39,
   "metadata": {},
   "outputs": [
    {
     "name": "stdout",
     "output_type": "stream",
     "text": [
      "b 2\n",
      "a 1\n",
      "c 3\n"
     ]
    }
   ],
   "source": [
    "d = {\"a\": 1, \"b\": 2, \"c\": 3}\n",
    "for k, v in d.items():\n",
    "    print(k, v)"
   ]
  },
  {
   "cell_type": "markdown",
   "metadata": {},
   "source": [
    "以上等价于："
   ]
  },
  {
   "cell_type": "code",
   "execution_count": 40,
   "metadata": {},
   "outputs": [
    {
     "name": "stdout",
     "output_type": "stream",
     "text": [
      "b 2\n",
      "a 1\n",
      "c 3\n"
     ]
    }
   ],
   "source": [
    "for k in d.keys():\n",
    "    print(k, d[k])"
   ]
  },
  {
   "cell_type": "markdown",
   "metadata": {},
   "source": [
    "### while 语句\n",
    "\n",
    "while 语句的 else 语法块，指明了退出 while 循环后立刻执行的内容；它不是必需的。\n",
    "\n",
    "如果你想要将 while 语句内部的参数传出（比如下例的计数器终值），这是一个不错的方案。"
   ]
  },
  {
   "cell_type": "code",
   "execution_count": 41,
   "metadata": {},
   "outputs": [
    {
     "name": "stdout",
     "output_type": "stream",
     "text": [
      "4 8\n"
     ]
    }
   ],
   "source": [
    "count = 1\n",
    "while count < 5:\n",
    "    a = count\n",
    "    count *= 2\n",
    "else:\n",
    "    b = count\n",
    "\n",
    "print(a, b)"
   ]
  },
  {
   "cell_type": "markdown",
   "metadata": {},
   "source": [
    "### 列表解析\n",
    "\n",
    "列表解析是一种创建列表的高度缩写方式："
   ]
  },
  {
   "cell_type": "code",
   "execution_count": 42,
   "metadata": {},
   "outputs": [
    {
     "data": {
      "text/plain": [
       "[0, 1, 4, 9]"
      ]
     },
     "execution_count": 42,
     "metadata": {},
     "output_type": "execute_result"
    }
   ],
   "source": [
    "lst = [x ** 2 for x in range(4)]\n",
    "lst"
   ]
  },
  {
   "cell_type": "markdown",
   "metadata": {},
   "source": [
    "也可以配合 if 语句："
   ]
  },
  {
   "cell_type": "code",
   "execution_count": 43,
   "metadata": {},
   "outputs": [
    {
     "data": {
      "text/plain": [
       "[1, 4, 9]"
      ]
     },
     "execution_count": 43,
     "metadata": {},
     "output_type": "execute_result"
    }
   ],
   "source": [
    "lst = [x ** 2 for x in range(4) if x > 0]\n",
    "lst"
   ]
  },
  {
   "cell_type": "markdown",
   "metadata": {},
   "source": [
    "## 函数\n",
    "\n",
    "本节介绍 Python 函数的基础特点，以及一些实用函数。"
   ]
  },
  {
   "cell_type": "markdown",
   "metadata": {},
   "source": [
    "### 定义新函数\n",
    "\n",
    "使用 `def` 关键字。三连双引号间的内容被视为函数的帮助字符串，可以通过 `help()` 命令查看。"
   ]
  },
  {
   "cell_type": "code",
   "execution_count": 44,
   "metadata": {
    "collapsed": true
   },
   "outputs": [],
   "source": [
    "def func(a, b=0):\n",
    "    \"\"\"\n",
    "    This is a function that can meow.\n",
    "    \"\"\"\n",
    "    return \" \".join([\"meow\"] * (a + b))"
   ]
  },
  {
   "cell_type": "markdown",
   "metadata": {},
   "source": [
    "调用函数："
   ]
  },
  {
   "cell_type": "code",
   "execution_count": 45,
   "metadata": {},
   "outputs": [
    {
     "data": {
      "text/plain": [
       "'meow meow'"
      ]
     },
     "execution_count": 45,
     "metadata": {},
     "output_type": "execute_result"
    }
   ],
   "source": [
    "func(2)  # 单参数，仅 a "
   ]
  },
  {
   "cell_type": "code",
   "execution_count": 46,
   "metadata": {},
   "outputs": [
    {
     "data": {
      "text/plain": [
       "'meow meow meow meow meow'"
      ]
     },
     "execution_count": 46,
     "metadata": {},
     "output_type": "execute_result"
    }
   ],
   "source": [
    "func(2, 3)  # 双参数， a 与 b 都被传入"
   ]
  },
  {
   "cell_type": "code",
   "execution_count": 47,
   "metadata": {},
   "outputs": [
    {
     "name": "stdout",
     "output_type": "stream",
     "text": [
      "Help on function func in module __main__:\n",
      "\n",
      "func(a, b=0)\n",
      "    This is a function that can meow.\n",
      "\n"
     ]
    }
   ],
   "source": [
    "help(func)"
   ]
  },
  {
   "cell_type": "markdown",
   "metadata": {},
   "source": [
    "### 不定参函数\n",
    "\n",
    "利用序列（或元组）与字典，向函数传参。前者在传入时需要加上一个星号，后者需要两个。"
   ]
  },
  {
   "cell_type": "code",
   "execution_count": 48,
   "metadata": {},
   "outputs": [
    {
     "name": "stdout",
     "output_type": "stream",
     "text": [
      "1+3=4 2+3=5\n"
     ]
    }
   ],
   "source": [
    "lst = [1, 3, 4]\n",
    "d = {\"a\": 2, \"b\": 3, \"c\": 5}\n",
    "print(\"{}+{}={}\".format(*lst), \"{a}+{b}={c}\".format(**d))"
   ]
  },
  {
   "cell_type": "markdown",
   "metadata": {},
   "source": [
    "### zip 函数\n",
    "\n",
    "zip() 函数的作用是“合并”多个列表为一个。其返回值是一个列表，列表内的元素类型是元组。如果待合并的列表长度不同，以最短的为准。"
   ]
  },
  {
   "cell_type": "code",
   "execution_count": 49,
   "metadata": {},
   "outputs": [
    {
     "data": {
      "text/plain": [
       "[(1, 5, 'a'), (2, 6, 'b'), (3, 7, 'c')]"
      ]
     },
     "execution_count": 49,
     "metadata": {},
     "output_type": "execute_result"
    }
   ],
   "source": [
    "a = [1, 2, 3, 4]\n",
    "b = [5 ,6, 7]\n",
    "c = \"abcd\"\n",
    "list(zip(a, b, c))"
   ]
  },
  {
   "cell_type": "markdown",
   "metadata": {},
   "source": [
    "它比较常用于交换字典的键与值："
   ]
  },
  {
   "cell_type": "code",
   "execution_count": 50,
   "metadata": {},
   "outputs": [
    {
     "data": {
      "text/plain": [
       "{2: 'a', 3: 'b', 5: 'c'}"
      ]
     },
     "execution_count": 50,
     "metadata": {},
     "output_type": "execute_result"
    }
   ],
   "source": [
    "dict(zip(d.values(), d.keys()))"
   ]
  },
  {
   "cell_type": "markdown",
   "metadata": {},
   "source": [
    "### lambda 函数\n",
    "\n",
    "一种匿名函数的声明方式。如果你使用过 MATLAB，你可能熟悉这一类概念。"
   ]
  },
  {
   "cell_type": "code",
   "execution_count": 51,
   "metadata": {},
   "outputs": [
    {
     "data": {
      "text/plain": [
       "7"
      ]
     },
     "execution_count": 51,
     "metadata": {},
     "output_type": "execute_result"
    }
   ],
   "source": [
    "func = lambda x, y: x + y\n",
    "func(2, 5)"
   ]
  },
  {
   "cell_type": "markdown",
   "metadata": {},
   "source": [
    "### map 函数\n",
    "\n",
    "map() 能够对传入的序列进行依次操作，并将结果返回为一个可转换为列表的 map 对象。通常列表解析（或生成器解析）可以实现与其同样的工作。"
   ]
  },
  {
   "cell_type": "code",
   "execution_count": 52,
   "metadata": {},
   "outputs": [
    {
     "name": "stdout",
     "output_type": "stream",
     "text": [
      "[1, 2, 3, 4, 5]\n"
     ]
    }
   ],
   "source": [
    "lst = list(map(lambda x: x + 1, range (5)))\n",
    "print(lst)"
   ]
  },
  {
   "cell_type": "code",
   "execution_count": 53,
   "metadata": {},
   "outputs": [
    {
     "data": {
      "text/plain": [
       "[1, 2, 3, 4, 5]"
      ]
     },
     "execution_count": 53,
     "metadata": {},
     "output_type": "execute_result"
    }
   ],
   "source": [
    "f = lambda x: x + 1\n",
    "[f(x) for x in range(5)]"
   ]
  },
  {
   "cell_type": "markdown",
   "metadata": {},
   "source": [
    "### filter 函数\n",
    "\n",
    "给定序列，对于满足某规则的部分（即 True），予以返回。"
   ]
  },
  {
   "cell_type": "code",
   "execution_count": 54,
   "metadata": {},
   "outputs": [
    {
     "data": {
      "text/plain": [
       "[1, 2]"
      ]
     },
     "execution_count": 54,
     "metadata": {},
     "output_type": "execute_result"
    }
   ],
   "source": [
    "list(filter(lambda x: x > 0, range(-3, 3)))"
   ]
  },
  {
   "cell_type": "markdown",
   "metadata": {},
   "source": [
    "### reduce 函数\n",
    "\n",
    "该函数在 Python 2 中是可以直接调用的，但在 Python 3 中需要从 functools 模块进行调用。"
   ]
  },
  {
   "cell_type": "code",
   "execution_count": 55,
   "metadata": {},
   "outputs": [
    {
     "data": {
      "text/plain": [
       "10"
      ]
     },
     "execution_count": 55,
     "metadata": {},
     "output_type": "execute_result"
    }
   ],
   "source": [
    "from functools import reduce\n",
    "reduce(lambda x, y: x + y, range (5))  # 0+1+2+3+4"
   ]
  },
  {
   "cell_type": "markdown",
   "metadata": {},
   "source": [
    "### enumerate 函数\n",
    "\n",
    "它允许你像 d.items() 那样，用类似的方式操作列表："
   ]
  },
  {
   "cell_type": "code",
   "execution_count": 56,
   "metadata": {},
   "outputs": [
    {
     "name": "stdout",
     "output_type": "stream",
     "text": [
      "lst[0] = 1\n",
      "lst[1] = 3\n",
      "lst[2] = 5\n"
     ]
    }
   ],
   "source": [
    "a = [1, 3, 5]\n",
    "for i, v in enumerate(a):\n",
    "    print(\"lst[{}] = {}\".format(i, v))"
   ]
  },
  {
   "cell_type": "markdown",
   "metadata": {},
   "source": [
    "## 迭代器 [itertools]\n",
    "\n",
    "迭代器与生成器在内存优化上很有意义。"
   ]
  },
  {
   "cell_type": "markdown",
   "metadata": {},
   "source": [
    "### 迭代器\n",
    "\n",
    "迭代器最显著的特征是拥有 `__iter__()` 和 `__next__()` 方法；它像一个链表。如果它指向末尾，那么再次执行 `__next__()` 时会报错。一个例子："
   ]
  },
  {
   "cell_type": "code",
   "execution_count": 57,
   "metadata": {},
   "outputs": [
    {
     "name": "stdout",
     "output_type": "stream",
     "text": [
      "1 2\n"
     ]
    }
   ],
   "source": [
    "a = [1, 2, 3]\n",
    "b = iter(a)\n",
    "print(b.__next__(), b.__next__())  # 或者使用 next(b)"
   ]
  },
  {
   "cell_type": "markdown",
   "metadata": {},
   "source": [
    "实际上，Python 3 内置了一个 itertools 的库，里面有诸如 cycle 和 count 等适用于迭代器的函数："
   ]
  },
  {
   "cell_type": "code",
   "execution_count": 58,
   "metadata": {},
   "outputs": [
    {
     "name": "stdout",
     "output_type": "stream",
     "text": [
      "1 1.5\n",
      "A B A\n",
      "['A', 'B', 'A', 'B']\n"
     ]
    }
   ],
   "source": [
    "import itertools\n",
    "\n",
    "# count: 给定首项与公差的无穷等差数列\n",
    "p = itertools.count(start = 1, step = 0.5)\n",
    "print(p.__next__(), p.__next__())\n",
    "\n",
    "# cycle: 周期循环的无穷序列\n",
    "p = itertools.cycle(list(\"AB\"))\n",
    "print(next(p), next(p), next(p))\n",
    "\n",
    "# islice: 从无穷序列中切片\n",
    "p = itertools.cycle(list(\"AB\"))\n",
    "print(list(itertools.islice(p, 0, 4)))"
   ]
  },
  {
   "cell_type": "markdown",
   "metadata": {},
   "source": [
    "请时刻注意**当前指向的迭代器位置**——失之毫厘，谬以千里。\n",
    "\n",
    "### 生成器\n",
    "\n",
    "生成器是迭代器的一种，其实质是**定义中含有 yield 关键词的函数**。它没有 return() 语句。"
   ]
  },
  {
   "cell_type": "code",
   "execution_count": 59,
   "metadata": {},
   "outputs": [
    {
     "data": {
      "text/plain": [
       "[1, 1, 2, 3, 5]"
      ]
     },
     "execution_count": 59,
     "metadata": {},
     "output_type": "execute_result"
    }
   ],
   "source": [
    "def Fib(N):  # 斐波那契数列\n",
    "    n, former, later = 0, 0, 1\n",
    "    while n < N:\n",
    "        yield later\n",
    "        former, later = later, later + former\n",
    "        n += 1\n",
    "\n",
    "list(Fib(5))"
   ]
  },
  {
   "cell_type": "markdown",
   "metadata": {},
   "source": [
    "上例与普通的写法看上去差别不大，但实际上可以将 while 语句改写为 whil True，删除变量 n，在外部借助 itertools 的 islice 函数来截取。这在函数定义时对代码的压缩是显然的。"
   ]
  },
  {
   "cell_type": "code",
   "execution_count": 60,
   "metadata": {},
   "outputs": [
    {
     "data": {
      "text/plain": [
       "[1, 1, 2, 3, 5]"
      ]
     },
     "execution_count": 60,
     "metadata": {},
     "output_type": "execute_result"
    }
   ],
   "source": [
    "def iterFib():\n",
    "    former, later = 0, 1\n",
    "    while True:\n",
    "        yield later\n",
    "        former, later = later, later + former\n",
    "\n",
    "list(itertools.islice(iterFib(), 0, 5))"
   ]
  },
  {
   "cell_type": "markdown",
   "metadata": {},
   "source": [
    "## 报错：try() 语句\n",
    "\n",
    "常见的错误有以下几种：\n",
    "\n",
    "- ZeroDivisionError: 除数为 0.\n",
    "- SyntaxError：语法错误。\n",
    "- IndexError：索引超界。\n",
    "- KeyError：字典键不存在。\n",
    "- IOError：读写错误。\n",
    "\n",
    "try() 语句的常见写法："
   ]
  },
  {
   "cell_type": "code",
   "execution_count": 61,
   "metadata": {},
   "outputs": [
    {
     "name": "stdout",
     "output_type": "stream",
     "text": [
      "1\n",
      "-- End --\n"
     ]
    }
   ],
   "source": [
    "try:\n",
    "    a = 1 \n",
    "except (ZeroDivisionError) as e:\n",
    "    print(e)\n",
    "    exit()\n",
    "else:  # 如果无错误，执行\n",
    "    print(a)\n",
    "finally:  # 不管有无错误均执行\n",
    "    print(\"-- End --\")"
   ]
  },
  {
   "cell_type": "markdown",
   "metadata": {},
   "source": [
    "其中，else 与 finally 语句都不是必需的。如果不想输出错误信息、或不能预先判断可能的错误类型，可以使用仅含 exit() 语句的 except 块。"
   ]
  },
  {
   "cell_type": "markdown",
   "metadata": {},
   "source": [
    "## 文件读写\n",
    "\n",
    "open() 函数用于文件的读写操作。一般我们会在操作文件时，引入 os 模块（os 模块的用法参考“常用模块”一节的内容）。"
   ]
  },
  {
   "cell_type": "code",
   "execution_count": 62,
   "metadata": {
    "collapsed": true
   },
   "outputs": [],
   "source": [
    "import os"
   ]
  },
  {
   "cell_type": "markdown",
   "metadata": {},
   "source": [
    "`open()` 函数常常配合 with 语法块进行使用，它会在语法块结束时自动关闭文件。该函数：\n",
    "\n",
    "```python\n",
    "open(file, mode=\"r\", encoding=None)\n",
    "```\n",
    "\n",
    "第一参数是包含文件名的路径（传入基于当前目录的相对路径，传入或者绝对路径），`mode` 参数是读写操作方式；`encoding` 是编码类型，一般取\"utf8\"。其中，读写操作方式常用的有：\n",
    "\n",
    "| 参数 | 含义 |\n",
    "| -- | -- |\n",
    "| \"r\" | （默认）读。 |\n",
    "| \"w\" | 写。该模式会覆盖原有内容；如文件不存在，会自动新建。 |\n",
    "| \"x\" | 创建新文件并写入。 |\n",
    "| \"a\" | 在已有文件的尾部追加。|\n",
    "\n",
    "### 一般读写操作：read() / readlines()\n",
    "\n",
    "函数 `read()` 将整个文件读为一个字符串，来看一个例子："
   ]
  },
  {
   "cell_type": "code",
   "execution_count": 63,
   "metadata": {},
   "outputs": [
    {
     "data": {
      "text/plain": [
       "'5.1,3.5,1.4,0.2,Iris-setosa\\n4.9,3.0,1.4,0.2,Iris-setosa\\n4.7,3.2,1.3,0.2,Iris-setosa\\n4.6,3.1,1.5,0.2,Iris-setosa\\n5.0,3.6,1.4,0.2,Iris-setosa\\n5.4,3.9,1.7,0.4,Iris-setosa\\n4.6,3.4,1.4,0.3,Iris-setosa\\n5.0,'"
      ]
     },
     "execution_count": 63,
     "metadata": {},
     "output_type": "execute_result"
    }
   ],
   "source": [
    "datapath = os.path.join(os.getcwd(), \"data\", \"iris.data.csv\")\n",
    "with open(datapath, \"r\", encoding=\"utf8\") as f:\n",
    "    rawtext = f.read()\n",
    "\n",
    "rawtext[:200]"
   ]
  },
  {
   "cell_type": "markdown",
   "metadata": {},
   "source": [
    "函数 `readlines()` 将整个文件读为一个列表，文件的每一行对应列表的一个元素。"
   ]
  },
  {
   "cell_type": "code",
   "execution_count": 64,
   "metadata": {},
   "outputs": [
    {
     "data": {
      "text/plain": [
       "['5.1,3.5,1.4,0.2,Iris-setosa\\n',\n",
       " '4.9,3.0,1.4,0.2,Iris-setosa\\n',\n",
       " '4.7,3.2,1.3,0.2,Iris-setosa\\n']"
      ]
     },
     "execution_count": 64,
     "metadata": {},
     "output_type": "execute_result"
    }
   ],
   "source": [
    "with open(datapath, \"r\", encoding=\"utf8\") as f:\n",
    "    rawtext = f.readlines()\n",
    "\n",
    "rawtext[:3]"
   ]
  },
  {
   "cell_type": "markdown",
   "metadata": {},
   "source": [
    "上述的 `readlines()` 函数实质等同于列表解析："
   ]
  },
  {
   "cell_type": "code",
   "execution_count": 65,
   "metadata": {},
   "outputs": [
    {
     "data": {
      "text/plain": [
       "['5.1,3.5,1.4,0.2,Iris-setosa\\n',\n",
       " '4.9,3.0,1.4,0.2,Iris-setosa\\n',\n",
       " '4.7,3.2,1.3,0.2,Iris-setosa\\n']"
      ]
     },
     "execution_count": 65,
     "metadata": {},
     "output_type": "execute_result"
    }
   ],
   "source": [
    "with open(datapath, \"r\", encoding=\"utf8\") as f:\n",
    "    rawtext = [line for line in f]\n",
    "\n",
    "rawtext[:3]"
   ]
  },
  {
   "cell_type": "markdown",
   "metadata": {},
   "source": [
    "文件写入，使用 `write()` 函数。一个简单的例子：\n",
    "\n",
    "```python\n",
    "with open(datapath, \"w\") as f:\n",
    "   f.write(\"Sometimes naive.\")\n",
    "```"
   ]
  },
  {
   "cell_type": "markdown",
   "metadata": {},
   "source": [
    "### 大文件读取：readline()\n",
    "\n",
    "如果文件比较大，使用 `read()/readlines()` 函数直接读入可能会占用太多内存。推荐使用函数 `readline()`，一种迭代器式的读取方法。"
   ]
  },
  {
   "cell_type": "code",
   "execution_count": 66,
   "metadata": {},
   "outputs": [
    {
     "name": "stdout",
     "output_type": "stream",
     "text": [
      "5.1,3.5,1.4,0.2,Iris-setosa\n",
      "4.9,3.0,1.4,0.2,Iris-setosa\n"
     ]
    }
   ],
   "source": [
    "with open(datapath, \"r\", encoding=\"utf8\") as f:\n",
    "    print(f.readline().strip())\n",
    "    print(f.readline().strip())"
   ]
  },
  {
   "cell_type": "markdown",
   "metadata": {},
   "source": [
    "你会发现两次结果是不同的，这是因为迭代器内部的“指针”向后移动了。\n",
    "\n",
    "怎样获取 / 移动“指针”的位置呢？使用 `tell() / seek()` 命令。"
   ]
  },
  {
   "cell_type": "code",
   "execution_count": 67,
   "metadata": {},
   "outputs": [
    {
     "name": "stdout",
     "output_type": "stream",
     "text": [
      "0 5.1,3.5,1.4,0.2,Iris-setosa\n",
      "28 4.9,3.0,1.4,0.2,Iris-setosa\n",
      "0 5.1,3.5,1.4,0.2,Iris-setosa\n"
     ]
    }
   ],
   "source": [
    "with open(datapath, \"r\", encoding=\"utf8\") as f:\n",
    "    print(f.tell(), f.readline().strip())\n",
    "    print(f.tell(), f.readline().strip())\n",
    "    f.seek(0)  # 回到文件头\n",
    "    print(f.tell(), f.readline().strip())"
   ]
  },
  {
   "cell_type": "markdown",
   "metadata": {},
   "source": [
    "## 类\n",
    "\n",
    "类的成员包括**属性（attribute）**与**方法（method）**两种。例子："
   ]
  },
  {
   "cell_type": "code",
   "execution_count": 68,
   "metadata": {},
   "outputs": [
    {
     "name": "stdout",
     "output_type": "stream",
     "text": [
      "cat Meow\n"
     ]
    }
   ],
   "source": [
    "class MyClass:\n",
    "    \"\"\"\n",
    "    This is a class that can meow!\n",
    "    \"\"\"\n",
    "    animal = \"cat\"  # An attribute\n",
    "    def talk(self):  # A method\n",
    "        return \"Meow\" \n",
    "\n",
    "# An instance of the class\n",
    "a = MyClass()\n",
    "print(a.animal, a.talk())"
   ]
  },
  {
   "cell_type": "markdown",
   "metadata": {},
   "source": [
    "上例中的 `self` 表示**类的实例**，所有类内部的方法都需要把该参数放在首位（你也不可不用 self 而使用 this 等，但是 self 是惯例）。例如，`self.animal` 就表示了实例的 animal 属性。这与 C\\# 等语言中的“this.animal”是类似的。\n",
    "\n",
    "下例证明了 `self` 代表的实质是类的实例，而不是类本身。"
   ]
  },
  {
   "cell_type": "code",
   "execution_count": 69,
   "metadata": {},
   "outputs": [
    {
     "name": "stdout",
     "output_type": "stream",
     "text": [
      "<__main__.EgClass object at 0x00000279597244A8>\n",
      "<class '__main__.EgClass'>\n"
     ]
    }
   ],
   "source": [
    "class EgClass:\n",
    "    def __init__(self):\n",
    "        print(self)  # 实例，有对应地址\n",
    "        print(self.__class__)  # 类\n",
    "\n",
    "a = EgClass()"
   ]
  },
  {
   "cell_type": "markdown",
   "metadata": {},
   "source": [
    "### 构造函数：\\_\\_init\\_\\_()\n",
    "\n",
    "类的构造函数是 `__init__()` （左右均为双下划线），用于初始化实例。在声明实例时，该函数自动被调用。"
   ]
  },
  {
   "cell_type": "code",
   "execution_count": 70,
   "metadata": {},
   "outputs": [
    {
     "data": {
      "text/plain": [
       "'dog'"
      ]
     },
     "execution_count": 70,
     "metadata": {},
     "output_type": "execute_result"
    }
   ],
   "source": [
    "class MyClass2:\n",
    "    def __init__(self, animal=\"cat\"):\n",
    "        self.animal = animal\n",
    "\n",
    "a = MyClass2(\"dog\")\n",
    "a.animal"
   ]
  },
  {
   "cell_type": "markdown",
   "metadata": {},
   "source": [
    "### 封装\n",
    "\n",
    "类的重要特性是封装性，即部分变量只能在其内部修改或访问，不能从类的外部进行处理。Python 中的封装非常简单，只要把属性或方法的名称前缀设置为双下划线即可。\n",
    "\n",
    "由此可见，构造函数 `__init__()` 是最基本的一个私有方法。一个例子："
   ]
  },
  {
   "cell_type": "code",
   "execution_count": 71,
   "metadata": {},
   "outputs": [
    {
     "name": "stdout",
     "output_type": "stream",
     "text": [
      "rabbit\n"
     ]
    }
   ],
   "source": [
    "class MyClass3:\n",
    "    def __init__(self, animal=\"cat\"):\n",
    "        self.__animal = animal\n",
    "        self.__foo()\n",
    "    def __foo(self):\n",
    "        self.__animal = \"rabbit\"\n",
    "    def show(self):\n",
    "        print(self.__animal)\n",
    "\n",
    "a = MyClass3(\"dog\")\n",
    "a.show()"
   ]
  },
  {
   "cell_type": "markdown",
   "metadata": {},
   "source": [
    "如果想直接调用 `__foo()` 或者 `__animal`，都会被禁止，产生 `AttributeError`。"
   ]
  },
  {
   "cell_type": "code",
   "execution_count": 72,
   "metadata": {},
   "outputs": [],
   "source": [
    "# a.__animal  # AttributeError"
   ]
  },
  {
   "cell_type": "markdown",
   "metadata": {},
   "source": [
    "### 继承\n",
    "\n",
    "不能继承的类，和咸鱼有什么区别？下面是一个著名的猫与狗的例子；类 Cat 与 Dog 都继承自 Animal，同时也都重载了方法 talk()。"
   ]
  },
  {
   "cell_type": "code",
   "execution_count": 73,
   "metadata": {},
   "outputs": [
    {
     "name": "stdout",
     "output_type": "stream",
     "text": [
      "Meow\n",
      "Woof\n"
     ]
    }
   ],
   "source": [
    "class Animal:\n",
    "    def talk(self):\n",
    "        pass # 表示定义留空\n",
    "\n",
    "class Cat(Animal): # 从Animal 继承\n",
    "    def talk(self): # 重写talk()\n",
    "        print('Meow')\n",
    "\n",
    "class Dog(Animal):\n",
    "    def talk(self):\n",
    "        print('Woof')\n",
    "\n",
    "a, b = Cat(), Dog()\n",
    "a.talk() # 'Meow'\n",
    "b.talk() # 'Woof'"
   ]
  },
  {
   "cell_type": "markdown",
   "metadata": {},
   "source": [
    "通过 `isinstance()` 函数可以判断一个对象是否是某个类（或其子类）的实例："
   ]
  },
  {
   "cell_type": "code",
   "execution_count": 74,
   "metadata": {},
   "outputs": [
    {
     "name": "stdout",
     "output_type": "stream",
     "text": [
      "True True\n"
     ]
    }
   ],
   "source": [
    "print(isinstance(a, Cat), isinstance(a, Animal))"
   ]
  },
  {
   "cell_type": "markdown",
   "metadata": {},
   "source": [
    "或者："
   ]
  },
  {
   "cell_type": "code",
   "execution_count": 75,
   "metadata": {},
   "outputs": [
    {
     "data": {
      "text/plain": [
       "'Cat'"
      ]
     },
     "execution_count": 75,
     "metadata": {},
     "output_type": "execute_result"
    }
   ],
   "source": [
    "type(a).__name__"
   ]
  },
  {
   "cell_type": "markdown",
   "metadata": {},
   "source": [
    "当然，类也可以多继承。写在左侧的类的属性与方法，在继承时会被优先采用。例如："
   ]
  },
  {
   "cell_type": "code",
   "execution_count": 76,
   "metadata": {},
   "outputs": [
    {
     "name": "stdout",
     "output_type": "stream",
     "text": [
      "Pet\n"
     ]
    }
   ],
   "source": [
    "class Pet:\n",
    "    def talk(self):\n",
    "        print(\"Pet\")\n",
    "\n",
    "class Cat2(Pet, Cat):\n",
    "    pass\n",
    "\n",
    "a = Cat2()\n",
    "a.talk()"
   ]
  },
  {
   "cell_type": "markdown",
   "metadata": {},
   "source": [
    "### 类的特殊属性与方法\n",
    "\n",
    "\n",
    "#### 属性 \\_\\_dict\\_\\_\n",
    "首先是 `__dict__` 属性，用于查看类的属性与方法，返回一个字典。"
   ]
  },
  {
   "cell_type": "code",
   "execution_count": 77,
   "metadata": {},
   "outputs": [
    {
     "data": {
      "text/plain": [
       "mappingproxy({'__dict__': <attribute '__dict__' of 'MyClass' objects>,\n",
       "              '__doc__': '\\n    This is a class that can meow!\\n    ',\n",
       "              '__module__': '__main__',\n",
       "              '__weakref__': <attribute '__weakref__' of 'MyClass' objects>,\n",
       "              'animal': 'cat',\n",
       "              'talk': <function __main__.MyClass.talk>})"
      ]
     },
     "execution_count": 77,
     "metadata": {},
     "output_type": "execute_result"
    }
   ],
   "source": [
    "a = MyClass()\n",
    "MyClass.__dict__"
   ]
  },
  {
   "cell_type": "markdown",
   "metadata": {},
   "source": [
    "需要注意的是，此时实例 a 的属性没有被更改过，实例的 `__dict__` 是一个空字典："
   ]
  },
  {
   "cell_type": "code",
   "execution_count": 78,
   "metadata": {},
   "outputs": [
    {
     "name": "stdout",
     "output_type": "stream",
     "text": [
      "{} cat\n"
     ]
    }
   ],
   "source": [
    "print(a.__dict__, a.animal)"
   ]
  },
  {
   "cell_type": "markdown",
   "metadata": {},
   "source": [
    "类的 `__dict__` 方法下的同名键，与实例具有相同值。"
   ]
  },
  {
   "cell_type": "code",
   "execution_count": 79,
   "metadata": {},
   "outputs": [
    {
     "data": {
      "text/plain": [
       "'cat'"
      ]
     },
     "execution_count": 79,
     "metadata": {},
     "output_type": "execute_result"
    }
   ],
   "source": [
    "MyClass.__dict__[\"animal\"]"
   ]
  },
  {
   "cell_type": "markdown",
   "metadata": {},
   "source": [
    "一旦被从外部更改，实例 a 的 `__dict__` 字典就不再为空。"
   ]
  },
  {
   "cell_type": "code",
   "execution_count": 80,
   "metadata": {},
   "outputs": [
    {
     "name": "stdout",
     "output_type": "stream",
     "text": [
      "{'animal': 'dog'} dog\n"
     ]
    }
   ],
   "source": [
    "a.animal = \"dog\"\n",
    "print(a.__dict__, a.animal)"
   ]
  },
  {
   "cell_type": "markdown",
   "metadata": {},
   "source": [
    "#### 属性 \\_\\_slots\\_\\_\n",
    "\n",
    "从上面可以看到，非私有的类属性可以从外部更改值，而且属性还能直接从外部增加。`__slots__` 属性的作用就在于使类的属性不能从外部进行更改、追加。它能够限制属性滥用，并在优化内存上也有意义。"
   ]
  },
  {
   "cell_type": "code",
   "execution_count": 81,
   "metadata": {},
   "outputs": [
    {
     "data": {
      "text/plain": [
       "mappingproxy({'__doc__': None,\n",
       "              '__init__': <function __main__.MySlotClass.__init__>,\n",
       "              '__module__': '__main__',\n",
       "              '__slots__': ('meow', 'woof'),\n",
       "              'meow': <member 'meow' of 'MySlotClass' objects>,\n",
       "              'woof': <member 'woof' of 'MySlotClass' objects>})"
      ]
     },
     "execution_count": 81,
     "metadata": {},
     "output_type": "execute_result"
    }
   ],
   "source": [
    "class MySlotClass():\n",
    "    __slots__ = (\"meow\", \"woof\")\n",
    "    def __init__(self):\n",
    "        self.meow = \"Meow\"\n",
    "        self.woof = \"Woof\"\n",
    "    \n",
    "a = MySlotClass()\n",
    "MySlotClass.__dict__"
   ]
  },
  {
   "cell_type": "markdown",
   "metadata": {},
   "source": [
    "此时，如果使用 `a.__dict__`，结果不会返回空字典，而是会报错。"
   ]
  },
  {
   "cell_type": "markdown",
   "metadata": {},
   "source": [
    "### 运算符重载\n",
    "\n",
    "特别地，Python 提供了运算符重载的功能。常用的对应如下（参考 [官方页面](https://docs.python.org/3/library/operator.html)）：\n",
    "\n",
    "| 方法 | 含义 | 应用 |\n",
    "| -- | -- | -- |\n",
    "| 一元运算符 | | |\n",
    "| `__len__` | 长度 | len(a) |\n",
    "| `__bool__` | 逻辑值 | bool(a) |\n",
    "| `__neg__` | 取负值 | -a |\n",
    "| `__str__ / __repr__` | 字符串形式 | repr(a) / str(a), print(a) |\n",
    "| 二元运算符 | | |\n",
    "| `__add__` | 加 | a + b, a += b |\n",
    "| `__sub__` | 减 | a - b, a -= b |\n",
    "| `__mul__` | 乘 | a \\* b, a \\*= b |\n",
    "| `__div__` | 除 | a / b, a /= b |\n",
    "| `__pow__` | 乘方 | a \\*\\* b, a \\*\\*= b | \n",
    "| `__radd__` | 左加 | ... + a |\n",
    "| 二元关系符 | | | \n",
    "| `__lt__ / __le__` | 小于 / 小于等于 | a < b, a <= b |\n",
    "| `__gt__ / __ge__` | 大于 / 大于等于 | a > b, a >= b |\n",
    "| `__eq__ / __ne__` | 等于 / 不等于 | a == b, a != b |\n",
    "\n",
    "比如下例中，对多个运算进行了重载，完成了二维向量在加减法上与向量、与数运算的基本定义。"
   ]
  },
  {
   "cell_type": "code",
   "execution_count": 82,
   "metadata": {},
   "outputs": [
    {
     "name": "stdout",
     "output_type": "stream",
     "text": [
      "Vector(-1,2) Vector(-5,2) Vector(5,1) Vector(-5,5)\n"
     ]
    }
   ],
   "source": [
    "class Vector:\n",
    "    def __init__(self, a, b):\n",
    "        self.a = a\n",
    "        self.b = b\n",
    "   \n",
    "    def __add__(self, another):\n",
    "        if isinstance(another, Vector):\n",
    "            c, d = another.a, another.b\n",
    "        else:\n",
    "            c, d = another, another\n",
    "        return Vector(self.a + c, self.b + d)\n",
    "    \n",
    "    def __radd__(self, another):\n",
    "        return self.__add__(another)\n",
    "    \n",
    "    def __neg__(self):\n",
    "        return Vector(-self.a, -self.b)\n",
    "    \n",
    "    def __sub__(self, another):\n",
    "        return self.__add__(-another)\n",
    "    \n",
    "    def __str__(self):\n",
    "        return \"Vector({},{})\".format(self.a, self.b)\n",
    "\n",
    "v1 = Vector(0,3)\n",
    "v2 = Vector(5,-2)\n",
    "print(v1 - 1, -v2, v1 + v2, v1 - v2)"
   ]
  },
  {
   "cell_type": "markdown",
   "metadata": {},
   "source": [
    "### 迭代行为\n",
    "\n",
    "在类中也能定义迭代行为，需要 `__iter__()` 与 `__next__()` 方法。"
   ]
  },
  {
   "cell_type": "code",
   "execution_count": 83,
   "metadata": {},
   "outputs": [
    {
     "name": "stdout",
     "output_type": "stream",
     "text": [
      "w\n",
      "o\n",
      "e\n",
      "M\n"
     ]
    }
   ],
   "source": [
    "# 该例改编自官方文档\n",
    "class MyClass4:\n",
    "    def __init__(self, lst):\n",
    "        self.data = lst\n",
    "        self.__index = len(lst)\n",
    "    def __iter__(self):\n",
    "        return self\n",
    "    def __next__(self):\n",
    "        if self.__index == 0:\n",
    "            raise StopIteration\n",
    "        self.__index -= 1\n",
    "        return self.data[self.__index]\n",
    "\n",
    "a = MyClass4(\"Meow\")\n",
    "for char in a:\n",
    "    print(char)"
   ]
  },
  {
   "cell_type": "markdown",
   "metadata": {},
   "source": [
    "## 常用模块\n",
    "\n",
    "下面介绍几个常用的 Python 标准模块（即随 Python 安装的模块）。更多的第三方模块，例如 NumPy, pandas, matplotlib，可以参考本系列博文的其他文章。"
   ]
  },
  {
   "cell_type": "markdown",
   "metadata": {},
   "source": [
    "### os 模块\n",
    "\n",
    "这个模块应该是 Python 自带模块中使用率最高的一个了。一些例子："
   ]
  },
  {
   "cell_type": "code",
   "execution_count": 84,
   "metadata": {
    "collapsed": true
   },
   "outputs": [],
   "source": [
    "# import os\n",
    "#\n",
    "# ----- 文件操作 -----\n",
    "# os.rename(\"old.py\", \"new.py\")  # 重命名\n",
    "# os.remove(\"a.py\")  # 删除\n",
    "# os.stat(\"b.py\")  # 查看文件属性\n",
    "#\n",
    "# ----- 路径操作 -----\n",
    "# os.getcwd()  # 获取当前目录\n",
    "# os.chdir(r\"d:\\list\")  # 更改当前目录为\n",
    "# os.chdir(os.pardir)  # 返回上一级目录\n",
    "# os.mkdir('newfolder ')  # 在当前目录新建一个文件夹\n",
    "# os.listdir('c:\\list')  # 列出文件夹下所有文件的列表\n",
    "# os.removedirs('thefolder ')  # 删除空文件夹\n",
    "# os.path.isfile/ispath(\"f\")  # 检查路径是文件或是目录\n",
    "# os.path.exists(\"f\")  # 检查路径是否存在\n",
    "# \n",
    "# ----- 操作平台相关 -----\n",
    "# os.sep  # 当前操作系统的路径分隔符\n",
    "# os.linesep  # 当前操作系统的换行符\n",
    "# os.path.join(r\"c:\\abc\", \"d\")  # 连接字串成为路径"
   ]
  },
  {
   "cell_type": "markdown",
   "metadata": {},
   "source": [
    "### sys 模块\n",
    "\n",
    "一般我很少用到这个模块。可能有这么几个命令会用到：\n",
    "- sys.argv：能够传递从命令行接受的参数到代码内。\n",
    "- sys.platform：当前操作系统平台。\n",
    "- sys.exit()：无参数时抛出 SystemExit 错误并退出；有参数时会在退出前输出对应的字符串到屏幕。"
   ]
  },
  {
   "cell_type": "code",
   "execution_count": 85,
   "metadata": {},
   "outputs": [
    {
     "data": {
      "text/plain": [
       "'win32'"
      ]
     },
     "execution_count": 85,
     "metadata": {},
     "output_type": "execute_result"
    }
   ],
   "source": [
    "import sys\n",
    "sys.platform"
   ]
  },
  {
   "cell_type": "markdown",
   "metadata": {},
   "source": [
    "一个 sys.argv 的例子："
   ]
  },
  {
   "cell_type": "code",
   "execution_count": 86,
   "metadata": {},
   "outputs": [
    {
     "data": {
      "text/plain": [
       "['e:\\\\python\\\\lib\\\\site-packages\\\\ipykernel_launcher.py',\n",
       " '-f',\n",
       " 'C:\\\\Users\\\\wklchris\\\\AppData\\\\Roaming\\\\jupyter\\\\runtime\\\\kernel-3c1b9471-4cd9-4bed-b01b-652efb6539aa.json']"
      ]
     },
     "execution_count": 86,
     "metadata": {},
     "output_type": "execute_result"
    }
   ],
   "source": [
    "sys.argv"
   ]
  },
  {
   "cell_type": "markdown",
   "metadata": {},
   "source": [
    "以上不是典型的例子，因为并不是在命令行下运行的。命令行下通常有如下格式：\n",
    "\n",
    "```Python\n",
    "python test.py hello\n",
    "```\n",
    "\n",
    "此时，sys.argv[0] = test.py，sys.argv[1] = hello. "
   ]
  },
  {
   "cell_type": "markdown",
   "metadata": {},
   "source": [
    "### re 模块：正则表达式\n",
    "\n",
    "参考本文附录。\n",
    "\n",
    "### 其他模块\n",
    "\n",
    "- collection 模块：提供了一种双端列表 deque，可以用 appendleft, extendleft, popleft 等方法从 deque 的左侧（也就是lst[0]）进行操作。注意，deque 的更新操作比 list 更快，但读取操作比 list 慢。\n",
    "- calendar 模块：判断星期、闰年，输出日历等等。\n",
    "- itertools 模块：在本文“迭代器”小节已进行了简要介绍。\n",
    "- urllib 模块：这是一个 HTML 请求模块，常用于爬虫。"
   ]
  },
  {
   "cell_type": "markdown",
   "metadata": {},
   "source": [
    "## 附录：正则表达式\n",
    "\n",
    "正则表达式的基础内容参考本博客的这篇博文：[正则表达式](https://wklchris.github.io/Regular-Expression.html)。注意：如果要保存一个正则表达式供多次使用，**请存储其 compile 后的结果**，避免反复编译。\n",
    "\n",
    "- re.compile(exp)：编译正则表达式。\n",
    "- re.compile(exp).match(str)：判断正则表达式能否匹配一个字串。可以 bool() 结果来获知是否匹配。\n",
    "    - re.compile(exp).match(str).groups()：将匹配结果返回为单个字符串（无子组时）或元组（有子组时）。\n",
    "    - re.compile(exp).findall(str)：找出字符串中所有匹配表达式的子串。返回列表。\n",
    "- re.split(exp, str)：用表达式来分割字符串，相当于 str.split() 的增强版。"
   ]
  },
  {
   "cell_type": "code",
   "execution_count": 87,
   "metadata": {},
   "outputs": [
    {
     "data": {
      "text/plain": [
       "True"
      ]
     },
     "execution_count": 87,
     "metadata": {},
     "output_type": "execute_result"
    }
   ],
   "source": [
    "import re\n",
    "bool(re.match(r\"\\d\", \"1\"))"
   ]
  },
  {
   "cell_type": "code",
   "execution_count": 88,
   "metadata": {},
   "outputs": [
    {
     "data": {
      "text/plain": [
       "'010-12345678'"
      ]
     },
     "execution_count": 88,
     "metadata": {},
     "output_type": "execute_result"
    }
   ],
   "source": [
    "phone_re = re.compile(r'\\d{3,4}-\\d{7,8}')\n",
    "phone_re.match('010-12345678').group()"
   ]
  },
  {
   "cell_type": "code",
   "execution_count": 89,
   "metadata": {},
   "outputs": [
    {
     "data": {
      "text/plain": [
       "('010', '12345678')"
      ]
     },
     "execution_count": 89,
     "metadata": {},
     "output_type": "execute_result"
    }
   ],
   "source": [
    "# 如果在正则表达式中添加了子组（小括号），那么会返回子组依顺序组成的一个元组\n",
    "phone_re = re.compile(r'(\\d{3,4})-(\\d{7,8})')\n",
    "phone_re.match('010-12345678').groups()"
   ]
  },
  {
   "cell_type": "code",
   "execution_count": 90,
   "metadata": {},
   "outputs": [
    {
     "data": {
      "text/plain": [
       "['010-12345678', '021-65439876']"
      ]
     },
     "execution_count": 90,
     "metadata": {},
     "output_type": "execute_result"
    }
   ],
   "source": [
    "phone_re = re.compile(r'\\d{3,4}-\\d{7,8}')  # 寻找所有子串\n",
    "phone_set = '010-12345678, 021-65439876 '\n",
    "phone_re.findall(phone_set)"
   ]
  },
  {
   "cell_type": "code",
   "execution_count": 91,
   "metadata": {},
   "outputs": [
    {
     "name": "stdout",
     "output_type": "stream",
     "text": [
      "['a', 'b', '', '', 'c'] ['a', 'b', 'c']\n"
     ]
    }
   ],
   "source": [
    "s = 'a b   c'  # 用 re.split() 处理连续的空格\n",
    "print(s.split(' '), re.split(r\"\\s+\", s))"
   ]
  }
 ],
 "metadata": {
  "kernelspec": {
   "display_name": "Python 3",
   "language": "python",
   "name": "python3"
  },
  "language_info": {
   "codemirror_mode": {
    "name": "ipython",
    "version": 3
   },
   "file_extension": ".py",
   "mimetype": "text/x-python",
   "name": "python",
   "nbconvert_exporter": "python",
   "pygments_lexer": "ipython3",
   "version": "3.5.3"
  }
 },
 "nbformat": 4,
 "nbformat_minor": 2
}
