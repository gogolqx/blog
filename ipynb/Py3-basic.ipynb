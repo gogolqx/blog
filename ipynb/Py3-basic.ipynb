{
 "cells": [
  {
   "cell_type": "markdown",
   "metadata": {},
   "source": [
    "本文简要记录了 Python 3 的语法。\n",
    "\n",
    "<!-- more -->\n",
    "\n",
    "## 介绍\n",
    "\n",
    "Python 是一门独特的语言，快速浏览一下他的要点：\n",
    "\n",
    "- **面向对象**：每一个变量都是一个类，有其自己的**属性（attribute）**与**方法（method）**。\n",
    "- **语法块**：用缩进（四个空格）而不是分号、花括号等符号来标记。因此，行首的空格不能随意书写。\n",
    "- **注释**：行内用“#”号，行间注释写在两组连续三单引号之间：'''\n",
    "- **续行**：行尾输入一个反斜杠加一个空格（'\\ '），再换行。如果行尾语法明显未完成（比如以逗号结尾），可以直接续行。\n",
    "- **打印与输入**： 函数 print() 与 input() \n",
    "- **变量**：无需指定变量类型，也不需要提前声明变量。\n",
    "    - 删除变量：del()\n",
    "    - 复制变量：直接将变量a赋值给b，有时仅仅复制了一个“引用”。此后 b 与 a 的改动仍会互相影响。必要时使用 `a is b` 来判断是否同址。\n",
    "- **帮助**：配合使用 dir() 与 help() 命令；其中前者是输出变量所有的成员。以及查阅 [官网页面](https://docs.python.org/3/)。\n",
    "\n",
    "变量复制的一个例子。"
   ]
  },
  {
   "cell_type": "code",
   "execution_count": 1,
   "metadata": {
    "collapsed": false
   },
   "outputs": [
    {
     "name": "stdout",
     "output_type": "stream",
     "text": [
      "0\n"
     ]
    }
   ],
   "source": [
    "a = [1, 2]\n",
    "b = a\n",
    "print(id(a) - id(b))  # 地址差为 0，表示实质是同址的"
   ]
  },
  {
   "cell_type": "code",
   "execution_count": 2,
   "metadata": {
    "collapsed": false
   },
   "outputs": [
    {
     "name": "stdout",
     "output_type": "stream",
     "text": [
      "[1, 2, 3]\n"
     ]
    }
   ],
   "source": [
    "b.append(3)\n",
    "print(a)  # 只改动了 b，但 a 也跟着变动了"
   ]
  },
  {
   "cell_type": "code",
   "execution_count": 3,
   "metadata": {
    "collapsed": false
   },
   "outputs": [
    {
     "data": {
      "text/plain": [
       "True"
      ]
     },
     "execution_count": 3,
     "metadata": {},
     "output_type": "execute_result"
    }
   ],
   "source": [
    "a is b"
   ]
  },
  {
   "cell_type": "markdown",
   "metadata": {},
   "source": [
    "## 数据结构\n",
    "\n",
    "Python 原生的数据结构包括："
   ]
  },
  {
   "cell_type": "markdown",
   "metadata": {},
   "source": [
    "### 数字（num）\n",
    "\n",
    "细分为整数（int）与浮点数（float）两种。\n",
    "\n",
    "- 四则运算：`+`， `-`， `*`， `/` ，乘方： `**`\n",
    "- 整除： `5 // 2 = 2`，取余：`5 % 2 = 1`\n",
    "- 自运算： `a += 1` （四则与乘方均可类似自运算）\n",
    "  \n",
    "以及一些细节：\n",
    "\n",
    "- 运算两数中只要有一个浮点数，结果就是浮点数；\n",
    "- 整数相除，即使能除尽，结果也是浮点数；\n",
    "- Python 内部的机制解决了整数溢出的问题，不用担心。"
   ]
  },
  {
   "cell_type": "markdown",
   "metadata": {},
   "source": [
    "### 布尔（bool）与逻辑\n",
    "\n",
    "首字母大写 True / False. \n",
    "\n",
    "- 逻辑运算符：与 `A and B`，或 `A or B`，非 `not A`\n",
    "- 逻辑关系符：等于 `==`， 不等于 `!=`. 其他不赘述。\n",
    "- 几种逻辑判断例子：\n",
    "\n",
    "| 变量 x | a = [] | b = 0 | c = 2 |\n",
    "| --- | --- | --- | --- |\n",
    "| bool(x) | False | False | True |\n",
    "| if x: ... | False | False | True | \n",
    "| if x is None: ... | False | False | False |"
   ]
  },
  {
   "cell_type": "markdown",
   "metadata": {},
   "source": [
    "### 序列（sequence）\n",
    "\n",
    "序列主要包括**字符串（str）、列表（list）与元祖（tuple）**三类。\n",
    "\n",
    "- 序列索引规则：\n",
    "    - 索引从0开始，到 N-1 结束。\n",
    "    - 切片：切片的索引是**左闭右开**的。\n",
    "      seq[0:2]（从 0 到 1），seq[2:]（从 2 到尾），seq[:3] （从头到 2），seq[:]（全部）。\n",
    "    - 索引允许负数：seq(-1) 与 seq(N - 1) 等同，seq(-3:-1)与 seq(N-3:N-1) 等同。\n",
    "- 序列通用函数：\n",
    "    - `len()`：返回序列长度。\n",
    "    - `+/*` ：加号用于连接两个序列，乘号重复排列若干次再连接。\n",
    "    - `seq1 in seq2`：如果 seq1 这个片段可以在 seq2 中被找到，返回 True.\n",
    "    - `index`：在 `seq1 in seq2` 为 True 时使用，`seq2.index(seq1)` 表示 seq1 首次出现于 seq2 中的位置。\n",
    "    - `max()/min()`：返回序列中的最值。如果不是数字，则按 ASCII 码顺序返回。\n",
    "    - `cmp(seq1, seq2)`：比较大小。结果为负，则表示 seq1 较小。"
   ]
  },
  {
   "cell_type": "markdown",
   "metadata": {},
   "source": [
    "#### 字符串（str）\n",
    "\n",
    "写于一对双引号或单引号内。用 str() 可以强制转换为字符串。\n",
    "\n",
    "- 转义：反斜杠。如果强制不解释字符串，在左引号前加字母 r 即可： `r\"c:\\new\"`.\n",
    "- 分割与连接：`**.split()` 与 `**.join()`."
   ]
  },
  {
   "cell_type": "code",
   "execution_count": 4,
   "metadata": {
    "collapsed": false
   },
   "outputs": [
    {
     "name": "stdout",
     "output_type": "stream",
     "text": [
      "['', 'I', 'love', 'Python'] \n",
      " -I-love-Python\n"
     ]
    }
   ],
   "source": [
    "s = \" I love Python\"  # 首位是空格\n",
    "lst = s.split(' ')\n",
    "lst1 = '-'.join(lst)\n",
    "\n",
    "print(lst, '\\n', lst1)"
   ]
  },
  {
   "cell_type": "markdown",
   "metadata": {},
   "source": [
    "- 紧切：`strip()` 去掉字符串首尾两端的空格。方法 lstrip()/rstrip() 则只切除首端/尾端的空格。"
   ]
  },
  {
   "cell_type": "code",
   "execution_count": 5,
   "metadata": {
    "collapsed": false
   },
   "outputs": [
    {
     "data": {
      "text/plain": [
       "'I love Python'"
      ]
     },
     "execution_count": 5,
     "metadata": {},
     "output_type": "execute_result"
    }
   ],
   "source": [
    "s.strip()"
   ]
  },
  {
   "cell_type": "markdown",
   "metadata": {},
   "source": [
    "- 大小写转换：如下几个方法：\n",
    "    - 首字母大写：s.title()\n",
    "    - 全大写：s.upper()\n",
    "    - 全小写：s.lower()\n",
    "    - 句首大写：s.capitalize()\n",
    "- 格式化：字符串格式化是一种实用功能。通过 `.format()` 成员函数完成。"
   ]
  },
  {
   "cell_type": "code",
   "execution_count": 6,
   "metadata": {
    "collapsed": false
   },
   "outputs": [
    {
     "data": {
      "text/plain": [
       "'I like Python and you'"
      ]
     },
     "execution_count": 6,
     "metadata": {},
     "output_type": "execute_result"
    }
   ],
   "source": [
    "'I like {} and {}'.format('Python', 'you')"
   ]
  },
  {
   "cell_type": "code",
   "execution_count": 7,
   "metadata": {
    "collapsed": false
   },
   "outputs": [
    {
     "data": {
      "text/plain": [
       "'10 + Python  = 20'"
      ]
     },
     "execution_count": 7,
     "metadata": {},
     "output_type": "execute_result"
    }
   ],
   "source": [
    "'{0} + {2} = {1}'.format (10, 20, 'Python ')  # 按顺序引用"
   ]
  },
  {
   "cell_type": "code",
   "execution_count": 8,
   "metadata": {
    "collapsed": false
   },
   "outputs": [
    {
     "data": {
      "text/plain": [
       "'10 * Python  = 10'"
      ]
     },
     "execution_count": 8,
     "metadata": {},
     "output_type": "execute_result"
    }
   ],
   "source": [
    "'{0} * {1} = {0}'.format (10, 'Python ')  # 编号反复引用"
   ]
  },
  {
   "cell_type": "markdown",
   "metadata": {},
   "source": [
    "格式化控制码：\n",
    "\n",
    "| 控制码 | 含义 | 控制码 | 含义 |\n",
    "| --- | --- | --- | --- |\n",
    "| :s | 字符串 | :c | 单个字符 |\n",
    "| :b/o/x/d | 二、八、十六、十进制数 | :e/f | 科学计数法/浮点数 |\n",
    "\n",
    "一些复杂控制的例子：\n",
    "\n",
    "| 例子 | 含义 | 例子 | 含义 |\n",
    "| --- | --- | --- | --- |\n",
    "| :.2f/:+.2f | 两位小数/带符号两位小数 | : .2f | 正数前补空格的两位小数 |\n",
    "| :, | 逗号分隔符 | :.2% | 百分比两位小数 |\n",
    "| :.2e | 科学计数法两位小数 | :^4d | 总宽四位居中对齐 |\n",
    "| :>4d/<4d | 总宽四位左/右对齐 | :0>4d | 总宽四位左侧补零 |\n",
    "\n",
    "举例："
   ]
  },
  {
   "cell_type": "code",
   "execution_count": 9,
   "metadata": {
    "collapsed": false
   },
   "outputs": [
    {
     "data": {
      "text/plain": [
       "'0123.40 is an odd number'"
      ]
     },
     "execution_count": 9,
     "metadata": {},
     "output_type": "execute_result"
    }
   ],
   "source": [
    "\"{:0>7.2f} is an odd number\".format(123.4)  # 总宽 7 位小数点后 2 位，左侧补零"
   ]
  },
  {
   "cell_type": "markdown",
   "metadata": {},
   "source": [
    "字符串中正则表达式的内容参见本文附录。"
   ]
  },
  {
   "cell_type": "markdown",
   "metadata": {},
   "source": [
    "#### 列表（list）\n",
    "\n",
    "中括号式的结构。list() 用于强制转换类型。"
   ]
  },
  {
   "cell_type": "code",
   "execution_count": 10,
   "metadata": {
    "collapsed": false
   },
   "outputs": [
    {
     "name": "stdout",
     "output_type": "stream",
     "text": [
      "[1, 2, 3]\n"
     ]
    }
   ],
   "source": [
    "lst = [1, 2, 3]\n",
    "print(lst)"
   ]
  },
  {
   "cell_type": "code",
   "execution_count": 11,
   "metadata": {
    "collapsed": false
   },
   "outputs": [
    {
     "name": "stdout",
     "output_type": "stream",
     "text": [
      "[3, 2, 1] [3, 2, 1]\n"
     ]
    }
   ],
   "source": [
    "# 【反转】：其中第二种方式会更改现有的列表\n",
    "lst1 = list(reversed(lst))\n",
    "lst.reverse()\n",
    "print(lst1, lst)"
   ]
  },
  {
   "cell_type": "code",
   "execution_count": 12,
   "metadata": {
    "collapsed": false
   },
   "outputs": [
    {
     "name": "stdout",
     "output_type": "stream",
     "text": [
      "[3, 2, 1, 4]\n"
     ]
    }
   ],
   "source": [
    "# 【追加】：元素 append()，另一个列表：extend()\n",
    "lst.append(4)\n",
    "print(lst)"
   ]
  },
  {
   "cell_type": "code",
   "execution_count": 13,
   "metadata": {
    "collapsed": false
   },
   "outputs": [
    {
     "name": "stdout",
     "output_type": "stream",
     "text": [
      "[3, 2, 1, 4, 3, 2, 1]\n"
     ]
    }
   ],
   "source": [
    "lst.extend(lst1)\n",
    "print(lst)"
   ]
  },
  {
   "cell_type": "code",
   "execution_count": 14,
   "metadata": {
    "collapsed": false
   },
   "outputs": [
    {
     "name": "stdout",
     "output_type": "stream",
     "text": [
      "[3, 100, 2, 1, 4, 3, 2, 1]\n"
     ]
    }
   ],
   "source": [
    "# 【插入】：lst.insert(idx, obj) 会在 lst[idx] 处插入 obj，然后依次后移原有项\n",
    "lst.insert(1, 100)\n",
    "print(lst)"
   ]
  },
  {
   "cell_type": "code",
   "execution_count": 15,
   "metadata": {
    "collapsed": false
   },
   "outputs": [
    {
     "name": "stdout",
     "output_type": "stream",
     "text": [
      "[3, 100, 1, 4, 3, 2, 1]\n"
     ]
    }
   ],
   "source": [
    "# 【删除】：lst.remove(obj) 会删除首个匹配值，若无匹配会报错；\n",
    "#           lst.pop(idx) 会返回 lst[idx]，并将其删除。如果不指定 idx，默认为列表尾\n",
    "lst.remove(2)\n",
    "print(lst)"
   ]
  },
  {
   "cell_type": "code",
   "execution_count": 16,
   "metadata": {
    "collapsed": false
   },
   "outputs": [
    {
     "name": "stdout",
     "output_type": "stream",
     "text": [
      "[3, 100, 1, 4, 3, 2] \n",
      " 1\n"
     ]
    }
   ],
   "source": [
    "tmp = lst.pop()\n",
    "print(lst, \"\\n\", tmp)"
   ]
  },
  {
   "cell_type": "code",
   "execution_count": 17,
   "metadata": {
    "collapsed": false
   },
   "outputs": [
    {
     "name": "stdout",
     "output_type": "stream",
     "text": [
      "[100, 4, 3, 3, 2, 1]\n"
     ]
    }
   ],
   "source": [
    "# 【搜索】：使用序列通用函数即可。用 count(obj) 可以计算频数。\n",
    "# 【排序】：sort() 方法。如果指定 reverse 参数，可降序排序。\n",
    "lst.sort(reverse=True)\n",
    "print(lst)"
   ]
  },
  {
   "cell_type": "code",
   "execution_count": 18,
   "metadata": {
    "collapsed": false
   },
   "outputs": [
    {
     "name": "stdout",
     "output_type": "stream",
     "text": [
      "[]\n"
     ]
    }
   ],
   "source": [
    "# 【清空】：clear()\n",
    "lst.clear()\n",
    "print(lst)"
   ]
  },
  {
   "cell_type": "markdown",
   "metadata": {},
   "source": [
    "#### 元组（tuple）\n",
    "\n",
    "圆括号式的结构，是一种**不可变**序列。"
   ]
  },
  {
   "cell_type": "code",
   "execution_count": 19,
   "metadata": {
    "collapsed": false
   },
   "outputs": [
    {
     "name": "stdout",
     "output_type": "stream",
     "text": [
      "(1, 'string ', [1, 2])\n"
     ]
    }
   ],
   "source": [
    "a = (1, 'string ', [1 ,2])\n",
    "print(a)"
   ]
  },
  {
   "cell_type": "markdown",
   "metadata": {},
   "source": [
    "### 字典（dict）\n",
    "\n",
    "字典是一种类哈希表的数据结构，内部无序，通过键值对（key: value）的形式存储数据。几种字典初始化的方式："
   ]
  },
  {
   "cell_type": "code",
   "execution_count": 20,
   "metadata": {
    "collapsed": false
   },
   "outputs": [
    {
     "name": "stdout",
     "output_type": "stream",
     "text": [
      "{'gender': 'male', 'name': 'wklchris'} \n",
      " {'name': 'wklchris'} \n",
      " {'gender': 'NA', 'name': 'NA'}\n"
     ]
    }
   ],
   "source": [
    "# 小字典直接赋值\n",
    "d1 = {\"name\": \"wklchris\", \"gender\": \"male\"}\n",
    "# 利用字典增加键值对的方法\n",
    "d2 = {}\n",
    "d2['name'] = 'wklchris'\n",
    "# 一个值赋给多个键\n",
    "d3 = {}.fromkeys((\"name\", \"gender\"), \"NA\")\n",
    "\n",
    "print(d1, \"\\n\", d2, \"\\n\", d3)"
   ]
  },
  {
   "cell_type": "markdown",
   "metadata": {},
   "source": [
    "字典的操作方法："
   ]
  },
  {
   "cell_type": "code",
   "execution_count": 21,
   "metadata": {
    "collapsed": false
   },
   "outputs": [
    {
     "data": {
      "text/plain": [
       "2"
      ]
     },
     "execution_count": 21,
     "metadata": {},
     "output_type": "execute_result"
    }
   ],
   "source": [
    "len(d1)"
   ]
  },
  {
   "cell_type": "code",
   "execution_count": 22,
   "metadata": {
    "collapsed": false
   },
   "outputs": [
    {
     "data": {
      "text/plain": [
       "False"
      ]
     },
     "execution_count": 22,
     "metadata": {},
     "output_type": "execute_result"
    }
   ],
   "source": [
    "# 【复制】：\n",
    "dd = d1.copy()\n",
    "dd is d1"
   ]
  },
  {
   "cell_type": "code",
   "execution_count": 23,
   "metadata": {
    "collapsed": false
   },
   "outputs": [
    {
     "data": {
      "text/plain": [
       "True"
      ]
     },
     "execution_count": 23,
     "metadata": {},
     "output_type": "execute_result"
    }
   ],
   "source": [
    "# 【查找键名称】：\n",
    "\"name\" in dd"
   ]
  },
  {
   "cell_type": "code",
   "execution_count": 24,
   "metadata": {
    "collapsed": true
   },
   "outputs": [],
   "source": [
    "# 【删除键值对】\n",
    "del(dd[\"name\"])"
   ]
  },
  {
   "cell_type": "code",
   "execution_count": 25,
   "metadata": {
    "collapsed": false
   },
   "outputs": [
    {
     "data": {
      "text/plain": [
       "'Nothing'"
      ]
     },
     "execution_count": 25,
     "metadata": {},
     "output_type": "execute_result"
    }
   ],
   "source": [
    "# 【get】\n",
    "dd.get(\"name\", \"Nothing\")  # 如果键不存在，返回“Nothing”"
   ]
  },
  {
   "cell_type": "code",
   "execution_count": 26,
   "metadata": {
    "collapsed": false
   },
   "outputs": [
    {
     "data": {
      "text/plain": [
       "'wklchris'"
      ]
     },
     "execution_count": 26,
     "metadata": {},
     "output_type": "execute_result"
    }
   ],
   "source": [
    "# 【setdefault】\n",
    "dd.setdefault(\"name\", \"wklchris\")  # 如果键不存在，就新建该键，并赋值"
   ]
  },
  {
   "cell_type": "code",
   "execution_count": 27,
   "metadata": {
    "collapsed": false
   },
   "outputs": [
    {
     "name": "stdout",
     "output_type": "stream",
     "text": [
      "{'gender': 'male', 'name': 'wklchris'}\n"
     ]
    }
   ],
   "source": [
    "print(dd)"
   ]
  },
  {
   "cell_type": "code",
   "execution_count": 28,
   "metadata": {
    "collapsed": false
   },
   "outputs": [
    {
     "data": {
      "text/plain": [
       "[('gender', 'male'), ('name', 'wklchris')]"
      ]
     },
     "execution_count": 28,
     "metadata": {},
     "output_type": "execute_result"
    }
   ],
   "source": [
    "# 【输出键值】：\n",
    "list(dd.items())"
   ]
  },
  {
   "cell_type": "code",
   "execution_count": 29,
   "metadata": {
    "collapsed": false
   },
   "outputs": [
    {
     "data": {
      "text/plain": [
       "['gender', 'name']"
      ]
     },
     "execution_count": 29,
     "metadata": {},
     "output_type": "execute_result"
    }
   ],
   "source": [
    "list(dd.keys())"
   ]
  },
  {
   "cell_type": "code",
   "execution_count": 30,
   "metadata": {
    "collapsed": false
   },
   "outputs": [
    {
     "data": {
      "text/plain": [
       "['male', 'wklchris']"
      ]
     },
     "execution_count": 30,
     "metadata": {},
     "output_type": "execute_result"
    }
   ],
   "source": [
    "list(dd.values())"
   ]
  },
  {
   "cell_type": "code",
   "execution_count": 31,
   "metadata": {
    "collapsed": false
   },
   "outputs": [
    {
     "name": "stdout",
     "output_type": "stream",
     "text": [
      "{'name': 'wklchris'} male\n"
     ]
    }
   ],
   "source": [
    "# 【弹出键值对】：pop(key) / popitem(key)\n",
    "# 其中，后者会随机弹出一个键值对\n",
    "tmp = dd.pop(\"gender\")\n",
    "print(dd, tmp)"
   ]
  },
  {
   "cell_type": "code",
   "execution_count": 32,
   "metadata": {
    "collapsed": false
   },
   "outputs": [
    {
     "name": "stdout",
     "output_type": "stream",
     "text": [
      "{'Age': 3, 'name': 'Test'}\n"
     ]
    }
   ],
   "source": [
    "# 【更新】：update(ref_dict) 以 ref_dict 为准，更新当前字典\n",
    "d4 = {\"name\": \"Test\", \"Age\": 3}\n",
    "dd.update(d4)\n",
    "print(dd)"
   ]
  },
  {
   "cell_type": "markdown",
   "metadata": {},
   "source": [
    "### 集合（set）\n",
    "\n",
    "*本文只讨论可变集合，关于不可变集合的内容，参考 `help(frozenset)`。*\n",
    "\n",
    "集合是一种无序的数据存储方式，且内部元素具有唯一性。集合与字典一样都可以用花括号的形式创立。但在书写 `a={}` 时，Python 会将其识别为字典类型。\n",
    "\n",
    "- 增添：add() / update()\n",
    "- 删除：remove() / discard()，区别在于后者搜索无结果会报错。\n",
    "- 从属：a.issubset(b) 集合 a 是否是 b 的子集；a.issuperset(b) 集合 a 是否是 b 的父集。a == b 两集合是否全等。\n",
    "- 集合运算：集合运算不会改变参与运算的集合本身。\n",
    "    - 并集： `a | b` 或者 `a.union(b)`\n",
    "    - 交集： `a & b` 或者 `a.intersection(b)`\n",
    "    - 补集： `a - b` 或者 `a.difference(b)`\n",
    "    \n",
    "注意：在字符串强制转换为集合时，**必要时使用中括号先转为列表**（否则字符串会被拆分为单个字符后再进行转换）。例如："
   ]
  },
  {
   "cell_type": "code",
   "execution_count": 33,
   "metadata": {
    "collapsed": false
   },
   "outputs": [
    {
     "data": {
      "text/plain": [
       "{'a', 'b', 'c', 'd', 'e'}"
      ]
     },
     "execution_count": 33,
     "metadata": {},
     "output_type": "execute_result"
    }
   ],
   "source": [
    "ss = {\"a\", \"b\", \"c\"}\n",
    "ss | set(\"de\")"
   ]
  },
  {
   "cell_type": "code",
   "execution_count": 34,
   "metadata": {
    "collapsed": false
   },
   "outputs": [
    {
     "data": {
      "text/plain": [
       "{'a', 'b', 'c', 'de'}"
      ]
     },
     "execution_count": 34,
     "metadata": {},
     "output_type": "execute_result"
    }
   ],
   "source": [
    "ss | set([\"de\"])"
   ]
  }
 ],
 "metadata": {
  "kernelspec": {
   "display_name": "Python 3",
   "language": "python",
   "name": "python3"
  },
  "language_info": {
   "codemirror_mode": {
    "name": "ipython",
    "version": 3
   },
   "file_extension": ".py",
   "mimetype": "text/x-python",
   "name": "python",
   "nbconvert_exporter": "python",
   "pygments_lexer": "ipython3",
   "version": "3.5.2"
  }
 },
 "nbformat": 4,
 "nbformat_minor": 2
}
