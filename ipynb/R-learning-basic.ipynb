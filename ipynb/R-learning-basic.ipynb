{
 "cells": [
  {
   "cell_type": "markdown",
   "metadata": {},
   "source": [
    "本系列文章可以作为一份快速的 R 上手指南，或者一份在线速查手册。操作系统基于 Windows。系列文章的参考资料在这里列出：\n",
    "\n",
    "1. Kabacoff R I. *R 语言实战（第二版）*[M]. 人民邮电出版社, 2016.\n",
    "\n",
    "## 入门\n",
    "\n",
    "### 安装 R 与 RStudio\n",
    "\n",
    "前往 [CRAN 站点](https://cran.r-project.org/)可以找到 R 的相关下载。安装好之后，建议安装 RStudio 作为编辑环境，这应该是主流的选择。\n",
    "\n",
    "- 如果你还使用 Github，那么我向你强烈推荐 Jupyter Notebook，它生成的 ipynb 文件在 Github 上可以直接在线以**可读性极佳**的形式预览——尤其是你需要把图片和绘图代码放在一起的时候。效果可以参考我的[这个页面](https://github.com/wklchris/wklchris.github.io/blob/master/ipynb/Data-science-support-blog-skills.ipynb)。\n",
    "- 如果你不仅使用 Github，还使用 Python，那你**千万一定**要用 Jupyter Notebook！我的 Github 中[这个页面的 Readme 文件](https://github.com/wklchris/Note-by-Jupyter)大体介绍了怎样安装 Jupyter Notebook 和添加 R 内核支持。\n",
    "- 如果你只是想要在本地的 RStudio 上把图片和绘图代码一起展示，不想理会什么 Jupyter ，那就搜索“Rmarkdown”吧。\n",
    "\n",
    "建议先配置好你的 R 工作环境，再继续向下阅读。同时，建议你将 R 放置在 PATH 环境变量中。\n",
    "\n",
    "### 简单的例子\n",
    "\n",
    "R 的常见身份是统计或数据语言，那就画个散点图当例子吧。"
   ]
  },
  {
   "cell_type": "code",
   "execution_count": 6,
   "metadata": {
    "collapsed": false
   },
   "outputs": [
    {
     "data": {
      "image/png": "[encoded data removed]",
      "text/plain": [
       "plot without title"
      ]
     },
     "metadata": {},
     "output_type": "display_data"
    }
   ],
   "source": [
    "x <- c(1, 3, 4, 5, 6)\n",
    "y <- c(4, 7, 2, 1, 6)\n",
    "plot(x, y)"
   ]
  },
  {
   "cell_type": "markdown",
   "metadata": {},
   "source": [
    "### 查找帮助\n",
    "\n",
    "以下几个命令是常用的帮助命令：\n",
    "\n",
    "```r\n",
    "help.start()  # 帮助首页\n",
    "help(\"function\")  # 查看函数 function 的帮助\n",
    "?function  # 同上\n",
    "```"
   ]
  },
  {
   "cell_type": "markdown",
   "metadata": {},
   "source": [
    "### 工作目录\n",
    "\n",
    "工作目录不是一个陌生的概念，简单来说就是在哪个文件夹下进行文件操作（包括部分临时文件、读取设置、读写数据等）。但是指定工作目录似乎没有 Python 那样方便，在不同设备上运行时很是头痛。\n",
    "\n",
    "```r\n",
    "getcwd()  # 显示当前工作目录\n",
    "setcwd(*where)  # 设置工作目录到某路径\n",
    "```\n",
    "\n",
    "### 输入/输出选项\n",
    "\n",
    "R 可以在当前环境有运行已有的 R 文件，算一种广义输入。调用函数是 source(*filename*)。\n",
    "\n",
    "R 的文字、图片输出可以分离，分别使用 sink(*filename*) 和 以下图片输出函数：bmp (.bmp), pdf (.pdf), jpeg (.jpg), png (.png), postscript (.ps), svg (.svg), win.metafile (.wmf)。例如：\n",
    "\n",
    "```r\n",
    "# 直接输出到屏幕\n",
    "source(\"script1.R\")\n",
    "# 文本追加模式 append ，输出到文件的同时输出到屏幕 split\n",
    "sink(\"myoutput\", append=TRUE, split=TRUE) \n",
    "pdf(\"mygraphs.pdf\")\n",
    "source(\"script2.R\")\n",
    "# 不保存输出\n",
    "sink()\n",
    "dev.off()\n",
    "source(\"script3.R\")\n",
    "```"
   ]
  },
  {
   "cell_type": "markdown",
   "metadata": {},
   "source": [
    "### 包的安装与使用\n",
    "\n",
    "例如 install.packages(\"gclus\")，其中双引号是不能少的。\n",
    "\n",
    "如果包已经安装，使用 library(gclus) 这样的形式在文件中加载包。"
   ]
  },
  {
   "cell_type": "markdown",
   "metadata": {},
   "source": [
    "## 基本语法\n",
    "\n",
    "R 的赋值可以使用 `=` 或者 `<-`，例如："
   ]
  },
  {
   "cell_type": "code",
   "execution_count": 7,
   "metadata": {
    "collapsed": false
   },
   "outputs": [
    {
     "name": "stdout",
     "output_type": "stream",
     "text": [
      "[1] 3\n"
     ]
    }
   ],
   "source": [
    "tmp = 3\n",
    "print(tmp)"
   ]
  },
  {
   "cell_type": "markdown",
   "metadata": {},
   "source": [
    "### 大小写敏感"
   ]
  },
  {
   "cell_type": "code",
   "execution_count": 2,
   "metadata": {
    "collapsed": false
   },
   "outputs": [
    {
     "name": "stdout",
     "output_type": "stream",
     "text": [
      "[1] FALSE\n"
     ]
    }
   ],
   "source": [
    "tmp = \"ThisisText\"\n",
    "tmp2 = \"thisisText\"\n",
    "print(tmp == tmp2)"
   ]
  },
  {
   "cell_type": "markdown",
   "metadata": {},
   "source": [
    "### 逻辑判断"
   ]
  },
  {
   "cell_type": "code",
   "execution_count": 6,
   "metadata": {
    "collapsed": false
   },
   "outputs": [
    {
     "name": "stdout",
     "output_type": "stream",
     "text": [
      "[1] TRUE TRUE TRUE TRUE\n"
     ]
    }
   ],
   "source": [
    "print(c(1 < 2, 3 > 2, 2 == 2, 3 != 2))"
   ]
  },
  {
   "cell_type": "markdown",
   "metadata": {},
   "source": [
    "### 工作空间\n",
    "\n",
    "在 R 中，路径中需要使用正斜杠(/)。如果你使用 Windows 系统，也可以使用双反斜杠。"
   ]
  },
  {
   "cell_type": "code",
   "execution_count": 9,
   "metadata": {
    "collapsed": false
   },
   "outputs": [],
   "source": [
    "# getwd()  # 获取当前工作空间路径\n",
    "# setwd(path_string)  # 设置工作空间"
   ]
  }
 ],
 "metadata": {
  "kernelspec": {
   "display_name": "R",
   "language": "R",
   "name": "ir"
  },
  "language_info": {
   "codemirror_mode": "r",
   "file_extension": ".r",
   "mimetype": "text/x-r-source",
   "name": "R",
   "pygments_lexer": "r",
   "version": "3.3.2"
  }
 },
 "nbformat": 4,
 "nbformat_minor": 2
}
