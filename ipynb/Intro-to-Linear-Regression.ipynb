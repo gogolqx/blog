{
 "cells": [
  {
   "cell_type": "markdown",
   "metadata": {},
   "source": [
    "This post briefly tells the general idea of linear regression. Examples are also included.\n",
    "\n",
    "<!-- more -->\n",
    "\n",
    "This post will cover:\n",
    "- Fundamental Knowledge before Get Started\n",
    "- Simple Linear Regression\n",
    "\n",
    "## Fundamental Knowledge\n",
    "\n",
    "Before get started, recall some basic things in statistic:\n",
    "$\\newcommand{\\uE}{\\mathop{}\\negthinspace\\mathrm{E}}\n",
    "\\newcommand{\\ucov}{\\mathop{}\\negthinspace\\mathrm{Cov}}\n",
    "\\newcommand{\\uvar}{\\mathop{}\\negthinspace\\mathrm{Var}}$\n",
    "\n",
    "### Expected Value\n",
    "\n",
    "Properties:\n",
    "\n",
    "$$\\uE(a+bX) = a+b\\uE(X)$$\n",
    "\n",
    "### Variance and Covariance\n",
    "\n",
    "Definition of variance: \n",
    "\n",
    "$$\\uvar(Y) = \\uE\\Big[(Y-\\uE(Y))^2\\Big] = \\uE(Y^2) - \\Big[\\uE(Y)\\Big]^2$$\n",
    "\n",
    "Definition of covariance:\n",
    "\n",
    "$$\\ucov(Y,Z) = \\uE\\Big[(Y-\\uE(Y))\\cdot(Z-\\uE(Z))\\Big]$$\n",
    "\n",
    "Properties:\n",
    "\n",
    "$$\\uvar(a+cY)=c^2(\\uvar(Y))$$\n",
    "\n",
    "$$\\ucov(a+bY, c+dZ)=bd\\ucov(Y,Z)$$\n",
    "\n",
    "And there's a significant property when calculate the variance of summation of random variables:\n",
    "\n",
    "$$\\uvar(\\sum_{i=1}^n a_iY_i) = \\sum_{i=1}^n\\sum_{i=j}^n a_ia_j\\ucov(Y_i,Y_j),$$\n",
    "\n",
    "which also has a special form when $Y_i$ are mutually independent:\n",
    "\n",
    "$$\\uvar(\\sum_{i=1}^n a_iY_i) = \\sum_{i=1}^n a_i^2\\uvar(Y_i)$$\n",
    "\n",
    "### Coefficient of Correlation\n",
    "\n",
    "In case that we might use this later, the definition of coefficient of correlation is introduced here:\n",
    "\n",
    "$$\\rho(Y,Z) = \\frac{\\ucov(Y,Z)}{\\sqrt{\\uvar(Y)\\uvar(Z)}} \\in [-1,1]$$\n",
    "\n",
    "When $Y$ and $Z$ are independent, we know $\\ucov(Y,Z)=0, \\rho(Y,Z)=0$."
   ]
  }
 ],
 "metadata": {
  "kernelspec": {
   "display_name": "Python 3",
   "language": "python",
   "name": "python3"
  },
  "language_info": {
   "codemirror_mode": {
    "name": "ipython",
    "version": 3
   },
   "file_extension": ".py",
   "mimetype": "text/x-python",
   "name": "python",
   "nbconvert_exporter": "python",
   "pygments_lexer": "ipython3",
   "version": "3.5.3"
  }
 },
 "nbformat": 4,
 "nbformat_minor": 2
}
