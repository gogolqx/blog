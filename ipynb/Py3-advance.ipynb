{
 "cells": [
  {
   "cell_type": "markdown",
   "metadata": {},
   "source": [
    "本文介绍 Python 深度使用中的一些技巧与细节，包括一些实用自带模块（如 collections）的使用。\n",
    "\n",
    "<!-- more -->\n",
    "\n",
    "诸如 os 之类的自带模块应当是每个 Python 使用者都有所了解并能基础应用的；这部分内容在 [Python 语法速查](https://wklchris.github.io/Py3-basic.html) 一文中已经做了介绍。\n",
    "\n",
    "# Python 进阶"
   ]
  },
  {
   "cell_type": "markdown",
   "metadata": {},
   "source": [
    "## 语法细节\n",
    "\n",
    "在 Python 编写中，一些语法细节能够让你的代码更易读。\n",
    "\n",
    "### 列表、字典解析\n",
    "\n",
    "- 列表解析时注意**嵌套的顺序**。下例中，i 是外层循环，j 是内层循环。\n",
    "- 循环变量不被使用时，可以**用单下划线代替**（不仅在解析中，在循环体中也可以这样）。"
   ]
  },
  {
   "cell_type": "code",
   "execution_count": 1,
   "metadata": {},
   "outputs": [
    {
     "data": {
      "text/plain": [
       "['0-0', '0-1', '0-2', '2-0', '2-1', '2-2', '4-0', '4-1', '4-2']"
      ]
     },
     "execution_count": 1,
     "metadata": {},
     "output_type": "execute_result"
    },
    {
     "data": {
      "text/plain": [
       "['0-0', '2-0', '4-0', '0-1', '2-1', '4-1', '0-2', '2-2', '4-2']"
      ]
     },
     "execution_count": 1,
     "metadata": {},
     "output_type": "execute_result"
    }
   ],
   "source": [
    "[\"{}-{}\".format(i, j) for i in range(5) if i % 2 == 0\n",
    "                      for j in range(3)]\n",
    "\n",
    "# 调换顺序，会得到不同的结果：\n",
    "[\"{}-{}\".format(i, j) for j in range(3)\n",
    "                      for i in range(5) if i % 2 == 0]"
   ]
  },
  {
   "cell_type": "markdown",
   "metadata": {},
   "source": [
    "用单下划线代替的解析："
   ]
  },
  {
   "cell_type": "code",
   "execution_count": 2,
   "metadata": {},
   "outputs": [
    {
     "data": {
      "text/plain": [
       "['a', 'a', 'a', 'a', 'a']"
      ]
     },
     "execution_count": 2,
     "metadata": {},
     "output_type": "execute_result"
    }
   ],
   "source": [
    "[\"a\" for _ in range(5)]  # 等同于 [\"a\"] * 5"
   ]
  },
  {
   "cell_type": "markdown",
   "metadata": {},
   "source": [
    "字典解析："
   ]
  },
  {
   "cell_type": "code",
   "execution_count": 3,
   "metadata": {},
   "outputs": [
    {
     "data": {
      "text/plain": [
       "{0: 0, 1: 1, 2: 4, 3: 9, 4: 16}"
      ]
     },
     "execution_count": 3,
     "metadata": {},
     "output_type": "execute_result"
    }
   ],
   "source": [
    "{i: i ** 2 for i in range(5)}"
   ]
  },
  {
   "cell_type": "markdown",
   "metadata": {},
   "source": [
    "## collections 模块\n",
    "\n",
    "该模块主要提供了一些实用的方法。"
   ]
  },
  {
   "cell_type": "code",
   "execution_count": 4,
   "metadata": {
    "collapsed": true
   },
   "outputs": [],
   "source": [
    "import collections"
   ]
  },
  {
   "cell_type": "markdown",
   "metadata": {},
   "source": [
    "### 例一：扑克牌（namedtuple）\n",
    "\n",
    "函数 namedtuple 可以构造一个类——它只有少量属性，没有方法。在声明实例时，属性将作为构造函数的参数传入。"
   ]
  },
  {
   "cell_type": "code",
   "execution_count": 5,
   "metadata": {},
   "outputs": [
    {
     "data": {
      "text/plain": [
       "Poker(suit='Club', number='9')"
      ]
     },
     "execution_count": 5,
     "metadata": {},
     "output_type": "execute_result"
    },
    {
     "data": {
      "text/plain": [
       "'Club'"
      ]
     },
     "execution_count": 5,
     "metadata": {},
     "output_type": "execute_result"
    },
    {
     "data": {
      "text/plain": [
       "'9'"
      ]
     },
     "execution_count": 5,
     "metadata": {},
     "output_type": "execute_result"
    }
   ],
   "source": [
    "Poker = collections.namedtuple(\"Poker\", [\"suit\", \"number\"])\n",
    "\n",
    "a = Poker(\"Club\", \"9\")  # 梅花9\n",
    "\n",
    "a\n",
    "a.suit\n",
    "a.number"
   ]
  },
  {
   "cell_type": "markdown",
   "metadata": {},
   "source": [
    "值得注意的是，一个 Poker 类的实例被视为一个元组对象。函数名 namedtuple 也暗示了这一点。"
   ]
  },
  {
   "cell_type": "code",
   "execution_count": 6,
   "metadata": {},
   "outputs": [
    {
     "data": {
      "text/plain": [
       "True"
      ]
     },
     "execution_count": 6,
     "metadata": {},
     "output_type": "execute_result"
    }
   ],
   "source": [
    "isinstance(a, tuple)"
   ]
  },
  {
   "cell_type": "markdown",
   "metadata": {},
   "source": [
    "扑克牌不算大小王有 52 张，怎样表示这样的一副牌呢？我们可以创建一个新类 FPoker，并定义：\n",
    "- 【属性】在其内部存储一个私有列表 `_poker`，记录 52 张牌。每个元素是一个 Poker 对象。\n",
    "- 【方法】长度 `__len__`，取值 `__getitem__` ……"
   ]
  },
  {
   "cell_type": "code",
   "execution_count": 7,
   "metadata": {
    "collapsed": true
   },
   "outputs": [],
   "source": [
    "class FPoker():\n",
    "    \"\"\"\n",
    "    A class of French suits poker including 52 cards.\n",
    "    \n",
    "    Attr:\n",
    "        numbers: List of card values from low to high.\n",
    "        suits: List of card suits from low to high.\n",
    "    \"\"\"\n",
    "    _n = [str(i) for i in range(3, 11)] + list(\"JQKA2\")\n",
    "    _s = \"Diamonds Clubs Hearts Spades\".split()\n",
    "\n",
    "    def __init__(self):\n",
    "        self._poker = [Poker(suit, number) for suit in self._s \n",
    "                                           for number in self._n]\n",
    "    \n",
    "    @property\n",
    "    def numbers(self):\n",
    "        return self._n\n",
    "\n",
    "    @property\n",
    "    def suits(self):\n",
    "        return self._s\n",
    "    \n",
    "    def __len__(self):\n",
    "        return len(self._poker)\n",
    "    \n",
    "    def __getitem__(self, i):\n",
    "        return self._poker[i]"
   ]
  },
  {
   "cell_type": "code",
   "execution_count": 8,
   "metadata": {},
   "outputs": [
    {
     "data": {
      "text/plain": [
       "['3', '4', '5', '6', '7', '8', '9', '10', 'J', 'Q', 'K', 'A', '2']"
      ]
     },
     "execution_count": 8,
     "metadata": {},
     "output_type": "execute_result"
    },
    {
     "data": {
      "text/plain": [
       "Poker(suit='Diamonds', number='3')"
      ]
     },
     "execution_count": 8,
     "metadata": {},
     "output_type": "execute_result"
    }
   ],
   "source": [
    "a = FPoker()\n",
    "a.numbers  # 点数顺序\n",
    "a[0]  # 最小的牌"
   ]
  }
 ],
 "metadata": {
  "kernelspec": {
   "display_name": "Python 3",
   "language": "python",
   "name": "python3"
  },
  "language_info": {
   "codemirror_mode": {
    "name": "ipython",
    "version": 3
   },
   "file_extension": ".py",
   "mimetype": "text/x-python",
   "name": "python",
   "nbconvert_exporter": "python",
   "pygments_lexer": "ipython3",
   "version": "3.5.3"
  }
 },
 "nbformat": 4,
 "nbformat_minor": 2
}
