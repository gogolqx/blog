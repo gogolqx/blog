{
 "cells": [
  {
   "cell_type": "markdown",
   "metadata": {},
   "source": [
    "本文将介绍基于 Python3 的 Cython 的基础使用，探索如何写出更快的代码。\n",
    "\n",
    "<!-- more -->\n",
    "\n",
    "安装 Cython 的过程就不多说了。可能需要预先安装 [Visual C++ Redistributable for Visual Studio 2015](https://www.microsoft.com/en-us/download/details.aspx?id=48145)。在安装之前，我也安装了 Numpy+mkl 以及 matplotlib，pandas 等科学计算必备组件。虽然没有经过我的验证，但我认为这些组件不是 Cython 必需的。\n",
    "\n",
    "官方的 Cython 教程 pdf 版可以在 [这个官方页面](https://media.readthedocs.org/pdf/cython/latest/cython.pdf) 下载（英文版）。本文大幅参考了2017年7月31日 Cython 0.26 的官方教程。\n",
    "\n",
    "本文最后修改时使用的 Cython 版本："
   ]
  },
  {
   "cell_type": "code",
   "execution_count": 1,
   "metadata": {},
   "outputs": [
    {
     "name": "stderr",
     "output_type": "stream",
     "text": [
      "Cython version 0.25.2\n"
     ]
    }
   ],
   "source": [
    "!cython -V"
   ]
  },
  {
   "cell_type": "markdown",
   "metadata": {},
   "source": [
    "## 编译流程\n",
    "\n",
    "Cython 代码必须被**编译**，就像 C 一样；这与纯 Python 代码是不同的。主要的步骤为：\n",
    "- 通过 Cython 将 .pyx 文件编译为 .c 文件。\n",
    "- 通过 C 编译器将 .c 文件编译为 .so 文件（如在 Windows 上，则是 .pyd 文件）。\n",
    "\n",
    "最广为使用的是命令行流程与 distutils 流程。"
   ]
  },
  {
   "cell_type": "markdown",
   "metadata": {},
   "source": [
    "### 命令行流程\n",
    "\n",
    "一个 Linux 下使用 gcc 的命令行代码例子：\n",
    "\n",
    "```bash\n",
    "$ cython -a yourmod.pyx\n",
    "$ gcc -shared -pthread -fPIC -fwrapv -O2 -Wall -fno-strict-aliasing \\ \n",
    "   -I/usr/include/python2.7 -o yourmod.so yourmod.c\n",
    "```"
   ]
  },
  {
   "cell_type": "markdown",
   "metadata": {},
   "source": [
    "### distutils 流程\n",
    "\n",
    "distutils 包是 Python 的标准包之一。例如，对于待编译的 hello.pyx 文件，先创建一个 setup.py 文件：\n",
    "```python\n",
    "from distutils.core import setup\n",
    "from Cython.Build import cythonize\n",
    "\n",
    "setup(\n",
    "   name = \"My hello app\",\n",
    "   ext_modules = cythonize('hello.pyx'), \n",
    "   include_path = [numpy.get_include()],  # 需要include其他内容的场合\n",
    ")\n",
    "```\n",
    "\n",
    "然后，在命令行运行：\n",
    "```cmd\n",
    "python setup.py build_ext --inplace\n",
    "```\n",
    "\n",
    "以上完成了基本的 distutils 流程。在需要使用 C 外部库的场合，需要借助 distutils.extensions.Extension：\n",
    "```python\n",
    "from distutils.core import setup\n",
    "from Cython.Build import cythonize\n",
    "from distutils.extension import Extension\n",
    "\n",
    "sourcefiles = ['example.pyx', 'helper.c', 'another_helper.c']\n",
    "extensions = [Extension(\"example\", sourcefiles, \n",
    "                 include_dirs = [...],\n",
    "                 libraries = [...],\n",
    "                 library_dirs = [...])]\n",
    "setup(\n",
    "    ext_modules = cythonize(extensions)\n",
    ")\n",
    "```\n",
    "\n",
    "Extension 类拥有许多参数，请参考 distutils 文档。以上 include_dirs, libraries, library_dirs 用于寻找与使用 .h 文件与库。"
   ]
  },
  {
   "cell_type": "markdown",
   "metadata": {},
   "source": [
    "### pyximport 流程\n",
    "\n",
    "在没有额外的 C 库需要使用的时候，此方法才可以使用。\n",
    "```python\n",
    "import pyximport; pyximport.install()\n",
    "import hello\n",
    "```"
   ]
  },
  {
   "cell_type": "markdown",
   "metadata": {},
   "source": [
    "### cython.inline 流程\n",
    "\n",
    "单行代码的执行可以使用。\n",
    "```python\n",
    "import cython\n",
    "def f(a):\n",
    "    ret = cython.inline(\"return a+b\", b=3)\n",
    "```"
   ]
  },
  {
   "cell_type": "markdown",
   "metadata": {},
   "source": [
    "## 语言基础\n",
    "\n",
    "Cython 有三种文件类型：\n",
    "- pyx 文件：执行文件（Implementation files）：它可以包含任何 Cython 可接受的内容。\n",
    "- pxd 文件：定义文件（Definition files）。它可以包含 C 类型声明、C 外部库等；不可以使用 Python 类定义。注意命令 `cimport` 的使用。\n",
    "  1. 在其他的 pxd 文件或 pyx 文件中引用时，使用 cimport 而不是 import 命令。\n",
    "  2. 在 pyx 文件中引用**同名**的 pxd 文件时，不需要 cimport；因为它们位于同一命名空间。\n",
    "  3. 为使 cimport 找到已存在的 pxd 文件，其路径必须加在 cython 编译命令的 `-I` 选项后。\n",
    "- pxi 文件：包含文件（Include files）：通过 include 命令来使用它。\n",
    "\n",
    "### 数据类型\n",
    "\n",
    "Python 的动态数据类型牺牲了性能，以换取代码编写过程的轻松。Cython 既然是注重性能的工具，当然会要求以 C 的方式（预指定数据类型）来声明变量。\n",
    "\n",
    "```python\n",
    "cdef int i, j, k  # 单个变量\n",
    "cdef float f, g[4], *h  # 数组\n",
    "cdef struct Stud:  # 结构体\n",
    "    int age\n",
    "    char x\n",
    "    double y\n",
    "cdef union Food:  # 共用体\n",
    "    char *spam\n",
    "    float *eggs\n",
    "cdef enum FoodType:  # 枚举类型\n",
    "    a, b, c\n",
    "cdef int func(unsigned long l, float f):  # 函数\n",
    "    ...\n",
    "cdef class ShootingStar:  # 类\n",
    "    ...\n",
    "```\n",
    "\n",
    "常量可以通过匿名枚举类型来定义：\n",
    "```python\n",
    "cdef enum:\n",
    "    constant_a = 1\n",
    "```\n",
    "\n",
    "当需要大量改写时，可以把定义写在 cdef 语法块中：\n",
    "```python\n",
    "cdef:\n",
    "    struct Stud:\n",
    "        int age\n",
    "        char x\n",
    "    int i\n",
    "    float f\n",
    "```\n",
    "\n",
    "Python 中的字符串相当于 Cython 中的 `char*` 定义。需要注意的是，Python 向 Cython 传递 Python 类型字符串变量时仍然存在问题：\n",
    "```python\n",
    "cdef char *s\n",
    "# 可能报错：\n",
    "s = pystr1 + pystr2  \n",
    "\n",
    "# 解决方案：\n",
    "p = pystr1 + pystr2\n",
    "s = p\n",
    "```"
   ]
  },
  {
   "cell_type": "markdown",
   "metadata": {},
   "source": [
    "### 函数定义\n",
    "\n",
    "函数定义的关键字有如下三种：\n",
    "- `def`：Python 可调用的函数。\n",
    "- `cdef`：Cython 可调用的函数。\n",
    "- `cpdef`：两者均可调用的函数。\n",
    "\n",
    "（待续）"
   ]
  }
 ],
 "metadata": {
  "kernelspec": {
   "display_name": "Python 3",
   "language": "python",
   "name": "python3"
  },
  "language_info": {
   "codemirror_mode": {
    "name": "ipython",
    "version": 3
   },
   "file_extension": ".py",
   "mimetype": "text/x-python",
   "name": "python",
   "nbconvert_exporter": "python",
   "pygments_lexer": "ipython3",
   "version": "3.5.3"
  }
 },
 "nbformat": 4,
 "nbformat_minor": 2
}
