{
 "cells": [
  {
   "cell_type": "markdown",
   "metadata": {},
   "source": [
    "This article introduces basic algorithms and their Python 3 implementation. \n",
    "\n",
    "<!-- more -->\n",
    "\n",
    "*__K. Wu, Oct 2017__*\n",
    "\n",
    "## Introduction\n",
    "\n",
    "The basic algorithms, in general, include following topics (sections with '\\*' are optional):\n",
    "- Basic Algorithm Thought\n",
    "  - Recursion & Divide-and-Conquer\n",
    "  - Induction\n",
    "  - Reduction\\*\n",
    "- Sorting\n",
    "  - Selection Sort\n",
    "  - Insertion Sort\n",
    "- Searching\n",
    "- Graph Algos\n",
    "- String Algos\n",
    "\n",
    "Let's get started. "
   ]
  },
  {
   "cell_type": "code",
   "execution_count": 1,
   "metadata": {},
   "outputs": [],
   "source": [
    "# Import some necessary modules\n",
    "import random\n",
    "%load_ext line_profiler"
   ]
  },
  {
   "cell_type": "markdown",
   "metadata": {},
   "source": [
    "## Basic Algorithm Thought\n",
    "\n",
    "Before learning a specific algorithm, we need to know how algorithms are developed. \n",
    "\n",
    "### Recursion & Divide-and-Conquer\n",
    "\n",
    "Recursion is not often used in daily life. I think that's because in most cases, we use this kind of method without knowing its name.\n",
    "\n",
    "> **[Example]** To merge two sorted poker card piles into a single sorted one[1]. \n",
    "\n",
    "What should we do? Our common sense might be to choose the smaller card from the top of these two piles, then add the card to the tail of the output pile. Repeat this step for 52 times and we get the output pile, which is also sorted. \n",
    "\n",
    "> **[Parent Example]** To sort a card pile.\n",
    "\n",
    "Inspired by the thought above, we can divide the card pile into two sub-piles, and sort them respectively (which is called *merge sort*). Imagine that we have a basic sort method \"basic_sort\" that can sort small (say number of cards $<n$) sequence fast. Then we only need another method called \"merge\" to help us merge piles into a whole one. \n",
    "\n",
    "```\n",
    "# pseudocode\n",
    "sort(inputpile):\n",
    "   if (size of inputpile >= n):\n",
    "     subpile_top = sort(top half of the inputpile)\n",
    "     subpile_bottom = sort(bottom half of the inputpile)\n",
    "     return merge(subpile_top, subpile_bottom)\n",
    "   else:\n",
    "     return basic_sort(inputpile)\n",
    "```\n",
    "\n",
    "This \"sort\" method we defined will only use \"basic_sort\" to sort the input pile when its size is smaller than $n$. Otherwise, it will split the pile into halves, and use these two halves as new input for the \"sort\" function. So the whole pile is **divided** into a number of sort problems within size of $n$, **conquered** respectively and then **combined** together to return a sorted pile.\n",
    "\n",
    "This is a basic recursion function. This kind of solution is called \"Divide and conquer\". \n",
    "\n",
    "***\n",
    "\n",
    "Recursion also can be used in many other cases, such as calculating the factorial:"
   ]
  },
  {
   "cell_type": "code",
   "execution_count": 2,
   "metadata": {},
   "outputs": [
    {
     "data": {
      "text/plain": [
       "24"
      ]
     },
     "execution_count": 2,
     "metadata": {},
     "output_type": "execute_result"
    }
   ],
   "source": [
    "def recur_factorial(n):\n",
    "    return 1 if n==1 else n*recur_factorial(n-1)\n",
    "\n",
    "recur_factorial(4)  # 4! = 4 x 3 x 2 x 1 = 24"
   ]
  },
  {
   "cell_type": "markdown",
   "metadata": {},
   "source": [
    "### Induction\n",
    "\n",
    "Induction is used in many occasions that needs inferences. We may all do sequence homework before like below:\n",
    "\n",
    "> **[Example]** Prove that $f(n)=1+2+3+\\cdots+n=\\dfrac{n(n+1)}{2}, n\\in N*$.\n",
    "\n",
    "Although we know that Mr. Gauss solved this problem many years ago, it's still a good example of induction. \n",
    "\n",
    "Once you infer a possible form, say $\\frac{n(n+1)}{2}$ here, of the summation, you should think about how to prove it. We can easily show it's correct when $n=1, 2, 3$, but we cannot enumerate all the integers. Therefore, an induction method is needed:\n",
    "1. Show that it's correct in a basic case.  \n",
    "  > When $n=1$, the left side equals 1, the right side is $\\frac{1\\times 2}{2}=1$. So it's true when $n=1$.\n",
    "2. Show that when the previous case is true, then current case is guaranteed to be true.\n",
    "  > For any given $n$, if $f(n)=\\dfrac{n(n+1)}{2}$ is true, then:  \n",
    "  > $$f(n+1) = \\dfrac{n(n+1)}{2} + (n+1) = \\dfrac{(n+1)(n+2)}{2}$$ \n",
    "  > so it's also true for $n+1$ case.\n",
    "3. QED. \n",
    "  > So it's true for all $n\\in N*$.\n",
    "\n",
    "What a sharp contrast with dive-and-conquer thought. Two totally different thoughts but both are widely applied."
   ]
  },
  {
   "cell_type": "markdown",
   "metadata": {},
   "source": [
    "### Reduction\\*\n",
    "\n",
    "Sometimes we may hear \"reduction\", but it's far from \"induction\".\n",
    "\n",
    "Roughly speaking, reduction is a thought to estimate the complexity or find a solution of a new problem. If the new problem is similar to an existing one, it might also have a similar complexity. If there has already been a solution for the existing one, the solution probably also works for the new problem."
   ]
  },
  {
   "cell_type": "markdown",
   "metadata": {},
   "source": [
    "## Sorting\n",
    "    \n",
    "\"Rearranging a sequence of objects so as to put them in some logical order\" [2].\n",
    "    \n",
    "### Selection Sort\n",
    "\n",
    "The basic idea of selection sort is: \n",
    "1. Find the smallest item, and exchange it with the first entry.\n",
    "2. Find the smallest item in the remaining list (because the first entry has been done), and exchange it with the second entry.\n",
    "3. ...\n",
    "\n",
    "For example, we have a sequence $[1,5,7,4,3,9,8,6,2]$. I write a Python code for selection sorting:"
   ]
  },
  {
   "cell_type": "code",
   "execution_count": 3,
   "metadata": {
    "scrolled": true
   },
   "outputs": [
    {
     "data": {
      "text/plain": [
       "[1, 5, 3, 4, 7, 2, 6, 8, 9]"
      ]
     },
     "execution_count": 3,
     "metadata": {},
     "output_type": "execute_result"
    }
   ],
   "source": [
    "def selection_sort(v):\n",
    "    n = len(v)\n",
    "    for i in range(n):\n",
    "        minidx = i\n",
    "        j = i + 1\n",
    "        while j < n and v[j] < v[minidx]:\n",
    "            minidx = j\n",
    "            j += 1\n",
    "        v[i], v[minidx] = v[minidx], v[i]\n",
    "    return(v)\n",
    "\n",
    "# Example\n",
    "a = [1,5,7,4,3,9,8,6,2]\n",
    "selection_sort(a)"
   ]
  },
  {
   "cell_type": "markdown",
   "metadata": {},
   "source": [
    "**Time Complexity of Selection Sort**\n",
    "\n",
    "There are 1 exchange and $n-i-1$ comparations in each outer loop, so its time complexity for selection sort is:\n",
    "\n",
    "$$ T \\approx \\sum_{i=1}^n \\left(1 + \\sum_{j=i+1}^n 1\\right) = \\sum_{i=1}^n (n-i) = \\frac{n(n-1)}{2} \\textrm{ (fixed time)}$$"
   ]
  },
  {
   "cell_type": "markdown",
   "metadata": {},
   "source": [
    "- **Running time of selection sort is only related to $n$**. Even the list has been already sorted, its running time won't decrease. For example, the selection sort running time of lists $a$ and the corresponding sorted list are respectively $8.35\\,\\mu\\mathrm{s}$ and $8.37\\,\\mu\\mathrm{s}$, nearly the same."
   ]
  },
  {
   "cell_type": "markdown",
   "metadata": {},
   "source": [
    "### Insertion sort\n",
    "\n",
    "Of course, selection sort is an inefficient algorithm. It can not even handle a sorted list in short time. \n",
    "\n",
    "Recall the method we use when playing poker. How do we sort cards in our hand? Generally, we would begin from the leftmost to the rightmost, pull it out and insert it into the sorted sequence at its left side.\n",
    "\n",
    "We use the same list for our Python code:"
   ]
  },
  {
   "cell_type": "code",
   "execution_count": 4,
   "metadata": {},
   "outputs": [
    {
     "name": "stdout",
     "output_type": "stream",
     "text": [
      "i=1, [1, 5, 7, 4, 3, 9, 8, 6, 2]\n",
      "i=2, [1, 5, 7, 4, 3, 9, 8, 6, 2]\n",
      "i=3, [1, 4, 5, 7, 3, 9, 8, 6, 2]\n",
      "i=4, [1, 3, 4, 5, 7, 9, 8, 6, 2]\n",
      "i=5, [1, 3, 4, 5, 7, 9, 8, 6, 2]\n",
      "i=6, [1, 3, 4, 5, 7, 8, 9, 6, 2]\n",
      "i=7, [1, 3, 4, 5, 6, 7, 8, 9, 2]\n",
      "i=8, [1, 2, 3, 4, 5, 6, 7, 8, 9]\n"
     ]
    },
    {
     "data": {
      "text/plain": [
       "[1, 2, 3, 4, 5, 6, 7, 8, 9]"
      ]
     },
     "execution_count": 4,
     "metadata": {},
     "output_type": "execute_result"
    }
   ],
   "source": [
    "def insertion_sort(v):\n",
    "    n = len(v)\n",
    "    for i in range(1, n):\n",
    "        j = i\n",
    "        while j >= 1 and v[j-1] > v[j]:  \n",
    "            v[j], v[j-1] = v[j-1], v[j]\n",
    "            j -= 1\n",
    "        print(\"i={}, {}\".format(i, v))\n",
    "    return(v)\n",
    "\n",
    "# Example\n",
    "a = [1,5,7,4,3,9,8,6,2]\n",
    "insertion_sort(a)"
   ]
  },
  {
   "cell_type": "markdown",
   "metadata": {},
   "source": [
    "**Time Complexity of Insertion Sort**\n",
    "\n",
    "In each $i$-loop, there are $i-1$ comparations and $i-1$ exchanges (when worst). The time complexity:\n",
    "\n",
    "$$\n",
    "\\begin{align*}\n",
    "T_{\\mathrm{worst}} \\approx& \\sum_{i=1}^n \\left(\\sum_{j=n}^{i-1} 1+1 \\right) = 2\\sum_{i=1}^n (i-1) = n(n-1) \\\\\n",
    "T_{\\mathrm{best}} =& (n-1) + 0 = n-1 \\\\\n",
    "T_{\\mathrm{average}} =& n(n-1)/2\n",
    "\\end{align*}\n",
    "$$\n",
    "\n",
    "So usually it's a $\\Theta(n^2)$ sort method. In average cases (when there's no identical sort keys), insertion sort are twice as fast as selection sort.\n",
    "\n",
    "*__Note: For partially sorted array, insertion sort can be high efficient.__*"
   ]
  },
  {
   "cell_type": "markdown",
   "metadata": {},
   "source": [
    "An implementation when $n$ is larger, say $10000$. We can use `%lprun` to get a running time report in Jupyter Notebook:\n",
    "```python\n",
    "a=list(range(10000))\n",
    "random.shuffle(a)\n",
    "\n",
    "# %load_ext line_profiler\n",
    "%lprun -f insertion_sort insertion_sort(a)\n",
    "```\n",
    "\n",
    "Result:\n",
    "```\n",
    "Timer unit: 3.95062e-07 s\n",
    "\n",
    "Total time: 0.0136407 s\n",
    "File: <ipython-input-4-167f22c9477e>\n",
    "Function: insertion_sort at line 1\n",
    "\n",
    "Line #      Hits         Time  Per Hit   % Time  Line Contents\n",
    "==============================================================\n",
    "     1                                           def insertion_sort(v):\n",
    "     2         1            4      4.0      0.0      n = len(v)\n",
    "     3     10000         8979      0.9     26.0      for i in range(1, n):\n",
    "     4      9999         9330      0.9     27.0          j = i\n",
    "     5      9999        16213      1.6     47.0          while j >= 1 and v[j-1] > v[j]:  \n",
    "     6                                                       v[j], v[j-1] = v[j-1], v[j]\n",
    "     7                                                       j -= 1\n",
    "     8         1            2      2.0      0.0      return(v)\n",
    "```"
   ]
  },
  {
   "cell_type": "markdown",
   "metadata": {},
   "source": [
    "*__Note: A good code (14 units) is nearly 4 times faster than an ugly code (65 units) like below! Write better code please.__*\n",
    "\n",
    "    # UGLY CODE!\n",
    "    def insertion_sort(v):\n",
    "        n = len(v)\n",
    "        for i in range(n):\n",
    "            j = 1\n",
    "            for j in reversed(range(i-1)):\n",
    "                if v[j] < v[j-1]:\n",
    "                    v[j], v[j-1] = v[j-1], v[j]\n",
    "                else:\n",
    "                    break\n",
    "        return(v)"
   ]
  },
  {
   "cell_type": "markdown",
   "metadata": {},
   "source": [
    "## Reference\n",
    "\n",
    "[1] Thomas H. Cormen, Charles E. Leiserson, Ronald L. Rivest, Clifford Stein. *Introduction to Algorithms (3rd Edition)*. 2009.  \n",
    "[2] Robert Sedgewick, Kevin Wayne. *Algorithms (4th Edition)*. 2011. "
   ]
  }
 ],
 "metadata": {
  "kernelspec": {
   "display_name": "Python 3",
   "language": "python",
   "name": "python3"
  },
  "language_info": {
   "codemirror_mode": {
    "name": "ipython",
    "version": 3
   },
   "file_extension": ".py",
   "mimetype": "text/x-python",
   "name": "python",
   "nbconvert_exporter": "python",
   "pygments_lexer": "ipython3",
   "version": "3.5.3"
  }
 },
 "nbformat": 4,
 "nbformat_minor": 2
}
