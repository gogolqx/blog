{
 "cells": [
  {
   "cell_type": "markdown",
   "metadata": {},
   "source": [
    "This article introduces basic algorithms and their Python 3 implementation.\n",
    "\n",
    "<!-- more -->\n",
    "\n",
    "*__K. Wu, Oct 2017__*\n",
    "\n",
    "## Introduction\n",
    "\n",
    "The basic algorithms, in general, include following topics:\n",
    "1. Sorting\n",
    "  - Selection Sort\n",
    "  - Insertion Sort\n",
    "2. Searching\n",
    "3. Graph Algos\n",
    "4. String Algos\n",
    "\n",
    "Let's get started. "
   ]
  },
  {
   "cell_type": "code",
   "execution_count": 73,
   "metadata": {
    "collapsed": true
   },
   "outputs": [],
   "source": [
    "# Import some necessary modules\n",
    "import random"
   ]
  },
  {
   "cell_type": "markdown",
   "metadata": {},
   "source": [
    "## Sorting\n",
    "\n",
    "    \n",
    "\"Rearranging a sequence of objects so as to put them in some logical order\" [1].\n",
    "    \n",
    "### Selection Sort\n",
    "\n",
    "The basic idea of selection sort is: \n",
    "1. Find the smallest item, and exchange it with the first entry.\n",
    "2. Find the smallest item in the remaining list (because the first entry has been done), and exchange it with the second entry.\n",
    "3. ...\n",
    "\n",
    "For example, we have a sequence $[1,5,7,4,3,9,8,6,2]$. I write a Python code for selection sorting:"
   ]
  },
  {
   "cell_type": "code",
   "execution_count": 156,
   "metadata": {
    "scrolled": true
   },
   "outputs": [
    {
     "data": {
      "text/plain": [
       "[1, 2, 3, 4, 5, 6, 7, 8, 9]"
      ]
     },
     "execution_count": 156,
     "metadata": {},
     "output_type": "execute_result"
    }
   ],
   "source": [
    "def selection_sort2(v):\n",
    "    n = len(v)\n",
    "    for i in range(n):\n",
    "        minidx = i\n",
    "        j = i + 1\n",
    "        while j < n and v[j] < v[minidx]:\n",
    "            minidx = j\n",
    "            j += 1\n",
    "        v[i], v[minidx] = v[minidx], v[i]\n",
    "    return(v)\n",
    "\n",
    "# Example\n",
    "a = [1,5,7,4,3,9,8,6,2]\n",
    "selection_sort(a)"
   ]
  },
  {
   "cell_type": "markdown",
   "metadata": {},
   "source": [
    "#### Time Complexity of Selection Sort\n",
    "\n",
    "There are 1 exchange and $n-i-1$ comparations in each outer loop, so its time complexity for selection sort is:\n",
    "\n",
    "$$ T \\approx \\sum_{i=1}^n \\left(1 + \\sum_{j=i+1}^n 1\\right) = \\sum_{i=1}^n (n-i) = \\frac{n(n-1)}{2} \\textrm{ (fixed time)}$$"
   ]
  },
  {
   "cell_type": "markdown",
   "metadata": {},
   "source": [
    "- **Running time of selection sort is only related to $n$**. Even the list has been already sorted, its running time won't decrease. For example, the selection sort running time of lists $a$ and the corresponding sorted list are respectively $8.35\\,\\mu\\mathrm{s}$ and $8.37\\,\\mu\\mathrm{s}$, nearly the same."
   ]
  },
  {
   "cell_type": "markdown",
   "metadata": {},
   "source": [
    "### Insertion sort\n",
    "\n",
    "Of course, selection sort is an inefficient algorithm. It can not even handle a sorted list in short time. \n",
    "\n",
    "Recall the method we use when playing poker. How do we sort cards in our hand? Generally, we would begin from the leftmost to the rightmost, pull it out and insert it into the sorted sequence at its left side.\n",
    "\n",
    "We use the same list for our Python code:"
   ]
  },
  {
   "cell_type": "code",
   "execution_count": 132,
   "metadata": {},
   "outputs": [
    {
     "name": "stdout",
     "output_type": "stream",
     "text": [
      "i=0, [1, 5, 7, 4, 3, 9, 8, 6, 2]\n",
      "i=1, [1, 5, 7, 4, 3, 9, 8, 6, 2]\n",
      "i=2, [1, 5, 7, 4, 3, 9, 8, 6, 2]\n",
      "i=3, [1, 4, 5, 7, 3, 9, 8, 6, 2]\n",
      "i=4, [1, 3, 4, 5, 7, 9, 8, 6, 2]\n",
      "i=5, [1, 3, 4, 5, 7, 9, 8, 6, 2]\n",
      "i=6, [1, 3, 4, 5, 7, 8, 9, 6, 2]\n",
      "i=7, [1, 3, 4, 5, 6, 7, 8, 9, 2]\n",
      "i=8, [1, 2, 3, 4, 5, 6, 7, 8, 9]\n"
     ]
    },
    {
     "data": {
      "text/plain": [
       "[1, 2, 3, 4, 5, 6, 7, 8, 9]"
      ]
     },
     "execution_count": 132,
     "metadata": {},
     "output_type": "execute_result"
    }
   ],
   "source": [
    "def insertion_sort(v):\n",
    "    n = len(v)\n",
    "    for i in range(n):\n",
    "        j = i\n",
    "        while j >= 1 and v[j-1] > v[j]:  \n",
    "            v[j], v[j-1] = v[j-1], v[j]\n",
    "            j -= 1\n",
    "        print(\"i={}, {}\".format(i, v))\n",
    "    return(v)\n",
    "\n",
    "# Example\n",
    "a = [1,5,7,4,3,9,8,6,2]\n",
    "insertion_sort(a)"
   ]
  },
  {
   "cell_type": "markdown",
   "metadata": {},
   "source": [
    "#### Time Complexity of Insertion Sort\n",
    "\n",
    "In each $i$-loop, there are $i-1$ comparations and $i-1$ exchanges (when worst). The time complexity:\n",
    "\n",
    "$$\n",
    "\\begin{align*}\n",
    "T_{\\mathrm{worst}} \\approx& \\sum_{i=1}^n \\left(\\sum_{j=n}^{i-1} 1+1 \\right) = 2\\sum_{i=1}^n (i-1) = n(n-1) \\\\\n",
    "T_{\\mathrm{best}} =& (n-1) + 0 = n-1 \\\\\n",
    "T_{\\mathrm{average}} =& n(n-1)/2\n",
    "\\end{align*}\n",
    "$$\n",
    "\n",
    "So usually it's a $\\Theta(n^2)$ sort method. In average cases (when there's no identical sort keys), insertion sort are twice as fast as selection sort.\n",
    "\n",
    "*__Note: For partially sorted array, insertion sort can be high efficient.__*"
   ]
  },
  {
   "cell_type": "markdown",
   "metadata": {},
   "source": [
    "#### Improvement of Insertion Sort\n",
    "\n",
    "- Shortening its inner loop to move the larger entry to the right one position (instead of doing full exchanges) will cut the number of array access in half.[1] I also write a code for it:"
   ]
  },
  {
   "cell_type": "code",
   "execution_count": 122,
   "metadata": {},
   "outputs": [
    {
     "data": {
      "text/plain": [
       "[1, 2, 3, 4, 5, 6, 7, 8, 9]"
      ]
     },
     "execution_count": 122,
     "metadata": {},
     "output_type": "execute_result"
    }
   ],
   "source": [
    "def insertion_sort2(v):\n",
    "    n = len(v)\n",
    "    for i in range(n):\n",
    "        t = v[i]  # temp variable\n",
    "        j = i\n",
    "        while j >= 1 and v[j-1] > t:  \n",
    "            v[j] = v[j-1]\n",
    "            j -= 1\n",
    "        v[j] = t\n",
    "    return(v)\n",
    "\n",
    "# Example\n",
    "a = [1,5,7,4,3,9,8,6,2]\n",
    "insertion_sort2(a)"
   ]
  },
  {
   "cell_type": "markdown",
   "metadata": {},
   "source": [
    "An implementation when $n$ is larger, say $10000$. The first function uses $1.6\\,\\mu\\mathrm{s}$, while the second one uses $2.2\\,\\mu\\mathrm{s}$. "
   ]
  },
  {
   "cell_type": "markdown",
   "metadata": {},
   "source": [
    "*__Note: The improved code is nearly 4 times faster that an ugly code ($6.5\\,\\mu\\mathrm{s}$) like below! Write better code please.__*\n",
    "\n",
    "    # UGLY CODE!\n",
    "    def insertion_sort(v):\n",
    "        n = len(v)\n",
    "        for i in range(n):\n",
    "            j = 1\n",
    "            for j in reversed(range(i-1)):\n",
    "                if v[j] < v[j-1]:\n",
    "                    v[j], v[j-1] = v[j-1], v[j]\n",
    "                else:\n",
    "                    break\n",
    "        return(v)"
   ]
  },
  {
   "cell_type": "markdown",
   "metadata": {},
   "source": [
    "## Reference\n",
    "\n",
    "[1] Robert Sedgewick, Kevin Wayne. *Algorithms (4th Edition)*. 2011"
   ]
  }
 ],
 "metadata": {
  "kernelspec": {
   "display_name": "Python 3",
   "language": "python",
   "name": "python3"
  },
  "language_info": {
   "codemirror_mode": {
    "name": "ipython",
    "version": 3
   },
   "file_extension": ".py",
   "mimetype": "text/x-python",
   "name": "python",
   "nbconvert_exporter": "python",
   "pygments_lexer": "ipython3",
   "version": "3.5.3"
  }
 },
 "nbformat": 4,
 "nbformat_minor": 2
}
