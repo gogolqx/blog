{
 "cells": [
  {
   "cell_type": "markdown",
   "metadata": {},
   "source": [
    "本节内容可应用在数据读取之后。包括基本的运算（包括统计函数）、数据重整（排序、合并、子集、随机抽样等）、异常值（NA/Inf/NaN）处理等内容，也包括函数声明部分的内容。字符串处理的内容会单独归纳到本系列的另一篇文章中。\n",
    "\n",
    "<!-- more -->\n",
    "\n",
    "## 数学函数\n",
    "\n",
    "数学运算符和一些统计学上需要的函数。\n",
    "\n",
    "### 数学运算符\n",
    "\n",
    "| 四则 | 幂运算 | 求余 | 整除 |\n",
    "| --- | --- | --- | --- |\n",
    "| +, -, \\*, / | ^ 或 \\*\\* | %% | %/% |\n",
    "\n",
    "例子："
   ]
  },
  {
   "cell_type": "code",
   "execution_count": 1,
   "metadata": {
    "collapsed": false
   },
   "outputs": [
    {
     "name": "stdout",
     "output_type": "stream",
     "text": [
      "[1] 8 1 2\n"
     ]
    }
   ],
   "source": [
    "a <- 2 ^ 3\n",
    "b <- 5 %% 2\n",
    "c <- 5 %/% 2\n",
    "print(c(a, b, c))"
   ]
  },
  {
   "cell_type": "markdown",
   "metadata": {},
   "source": [
    "### 统计函数\n",
    "\n",
    "- 均值：mean()\n",
    "- 中位数：median()\n",
    "- 标准差：sd()\n",
    "- 方差：var()\n",
    "- 绝对中位差：mad(x, center=median(x), constant=1.4826, ...)，计算式：\n",
    "\n",
    "$$ \\mathrm{mad}(x) = constant * \\mathrm{Median}(|x - center|)$$\n",
    "\n",
    "- 分位数：quantile(x, probs)，例如 quantile(x, c(.3, 84%)) 返回 x 的 30% 和 84% 分位数。\n",
    "- 极值：min() & max()\n",
    "- 值域与极差：range(x)，例如 range(c(1, 2, 3)) 结果为 c(1, 3)。极差用 diff(range(x))\n",
    "- 差分：diff(x, lag=1)。可以用 lag 指定滞后项的个数，默认 1\n",
    "- 标准化：scale(x, center=TRUE, scale=TRUE)。可以使用 scale(x) * SD + C 来获得标准差为 SD、均值为 C 的标准化结果。"
   ]
  },
  {
   "cell_type": "markdown",
   "metadata": {},
   "source": [
    "## 数据框操作\n",
    "\n",
    "数据框是最常使用的数据类型。下面给出数据框使用中一些实用的场景，以及解决方案。\n",
    "\n",
    "### 行、列操作\n",
    "\n",
    "#### 新建\n",
    "\n",
    "创建一个新的列（变量）是很常见的操作。比如我们现在有数据框 df ，想要在右侧新建一个列，使其等于左侧两列的和。"
   ]
  },
  {
   "cell_type": "code",
   "execution_count": 2,
   "metadata": {
    "collapsed": false
   },
   "outputs": [
    {
     "data": {
      "text/html": [
       "<table>\n",
       "<thead><tr><th scope=col>x1</th><th scope=col>x2</th><th scope=col>sumx</th></tr></thead>\n",
       "<tbody>\n",
       "\t<tr><td>1 </td><td>2 </td><td> 3</td></tr>\n",
       "\t<tr><td>3 </td><td>4 </td><td> 7</td></tr>\n",
       "\t<tr><td>5 </td><td>6 </td><td>11</td></tr>\n",
       "</tbody>\n",
       "</table>\n"
      ],
      "text/latex": [
       "\\begin{tabular}{r|lll}\n",
       " x1 & x2 & sumx\\\\\n",
       "\\hline\n",
       "\t 1  & 2  &  3\\\\\n",
       "\t 3  & 4  &  7\\\\\n",
       "\t 5  & 6  & 11\\\\\n",
       "\\end{tabular}\n"
      ],
      "text/markdown": [
       "\n",
       "x1 | x2 | sumx | \n",
       "|---|---|---|\n",
       "| 1  | 2  |  3 | \n",
       "| 3  | 4  |  7 | \n",
       "| 5  | 6  | 11 | \n",
       "\n",
       "\n"
      ],
      "text/plain": [
       "  x1 x2 sumx\n",
       "1 1  2   3  \n",
       "2 3  4   7  \n",
       "3 5  6  11  "
      ]
     },
     "metadata": {},
     "output_type": "display_data"
    }
   ],
   "source": [
    "df = data.frame(x1=c(1, 3, 5), x2=c(2, 4, 6))\n",
    "# 直接用美元符声明一个新列\n",
    "df$sumx <- df$x1 + df$x2\n",
    "df"
   ]
  },
  {
   "cell_type": "code",
   "execution_count": 3,
   "metadata": {
    "collapsed": false
   },
   "outputs": [
    {
     "data": {
      "text/html": [
       "<table>\n",
       "<thead><tr><th scope=col>x1</th><th scope=col>x2</th><th scope=col>sumx</th><th scope=col>sumx2</th></tr></thead>\n",
       "<tbody>\n",
       "\t<tr><td>1 </td><td>2 </td><td> 3</td><td> 3</td></tr>\n",
       "\t<tr><td>3 </td><td>4 </td><td> 7</td><td> 7</td></tr>\n",
       "\t<tr><td>5 </td><td>6 </td><td>11</td><td>11</td></tr>\n",
       "</tbody>\n",
       "</table>\n"
      ],
      "text/latex": [
       "\\begin{tabular}{r|llll}\n",
       " x1 & x2 & sumx & sumx2\\\\\n",
       "\\hline\n",
       "\t 1  & 2  &  3 &  3\\\\\n",
       "\t 3  & 4  &  7 &  7\\\\\n",
       "\t 5  & 6  & 11 & 11\\\\\n",
       "\\end{tabular}\n"
      ],
      "text/markdown": [
       "\n",
       "x1 | x2 | sumx | sumx2 | \n",
       "|---|---|---|\n",
       "| 1  | 2  |  3 |  3 | \n",
       "| 3  | 4  |  7 |  7 | \n",
       "| 5  | 6  | 11 | 11 | \n",
       "\n",
       "\n"
      ],
      "text/plain": [
       "  x1 x2 sumx sumx2\n",
       "1 1  2   3    3   \n",
       "2 3  4   7    7   \n",
       "3 5  6  11   11   "
      ]
     },
     "metadata": {},
     "output_type": "display_data"
    }
   ],
   "source": [
    "# 或者使用 transform 函数\n",
    "df <- transform(df, sumx2=x1+x2)\n",
    "df"
   ]
  },
  {
   "cell_type": "markdown",
   "metadata": {},
   "source": [
    "#### 重命名"
   ]
  },
  {
   "cell_type": "code",
   "execution_count": 4,
   "metadata": {
    "collapsed": false
   },
   "outputs": [
    {
     "name": "stdout",
     "output_type": "stream",
     "text": [
      "[1] \"x1\"   \"x2\"   \"sumx\" \"SUM\" \n"
     ]
    }
   ],
   "source": [
    "colnames(df)[4] <- \"SUM\"\n",
    "print(colnames(df))"
   ]
  },
  {
   "cell_type": "markdown",
   "metadata": {},
   "source": [
    "#### 选取/剔除: subset()"
   ]
  },
  {
   "cell_type": "code",
   "execution_count": 5,
   "metadata": {
    "collapsed": false
   },
   "outputs": [
    {
     "data": {
      "text/html": [
       "<table>\n",
       "<thead><tr><th scope=col>x1</th><th scope=col>x2</th></tr></thead>\n",
       "<tbody>\n",
       "\t<tr><td>1</td><td>2</td></tr>\n",
       "\t<tr><td>3</td><td>4</td></tr>\n",
       "\t<tr><td>5</td><td>6</td></tr>\n",
       "</tbody>\n",
       "</table>\n"
      ],
      "text/latex": [
       "\\begin{tabular}{r|ll}\n",
       " x1 & x2\\\\\n",
       "\\hline\n",
       "\t 1 & 2\\\\\n",
       "\t 3 & 4\\\\\n",
       "\t 5 & 6\\\\\n",
       "\\end{tabular}\n"
      ],
      "text/markdown": [
       "\n",
       "x1 | x2 | \n",
       "|---|---|---|\n",
       "| 1 | 2 | \n",
       "| 3 | 4 | \n",
       "| 5 | 6 | \n",
       "\n",
       "\n"
      ],
      "text/plain": [
       "  x1 x2\n",
       "1 1  2 \n",
       "2 3  4 \n",
       "3 5  6 "
      ]
     },
     "metadata": {},
     "output_type": "display_data"
    }
   ],
   "source": [
    "# 选取前两列\n",
    "df[,1:2]  # 或者 df[c(\"x1\", \"x2\")]"
   ]
  },
  {
   "cell_type": "code",
   "execution_count": 6,
   "metadata": {
    "collapsed": false
   },
   "outputs": [
    {
     "data": {
      "text/html": [
       "<table>\n",
       "<thead><tr><th scope=col>x1</th><th scope=col>x2</th><th scope=col>SUM</th></tr></thead>\n",
       "<tbody>\n",
       "\t<tr><td>1 </td><td>2 </td><td> 3</td></tr>\n",
       "\t<tr><td>3 </td><td>4 </td><td> 7</td></tr>\n",
       "\t<tr><td>5 </td><td>6 </td><td>11</td></tr>\n",
       "</tbody>\n",
       "</table>\n"
      ],
      "text/latex": [
       "\\begin{tabular}{r|lll}\n",
       " x1 & x2 & SUM\\\\\n",
       "\\hline\n",
       "\t 1  & 2  &  3\\\\\n",
       "\t 3  & 4  &  7\\\\\n",
       "\t 5  & 6  & 11\\\\\n",
       "\\end{tabular}\n"
      ],
      "text/markdown": [
       "\n",
       "x1 | x2 | SUM | \n",
       "|---|---|---|\n",
       "| 1  | 2  |  3 | \n",
       "| 3  | 4  |  7 | \n",
       "| 5  | 6  | 11 | \n",
       "\n",
       "\n"
      ],
      "text/plain": [
       "  x1 x2 SUM\n",
       "1 1  2   3 \n",
       "2 3  4   7 \n",
       "3 5  6  11 "
      ]
     },
     "metadata": {},
     "output_type": "display_data"
    }
   ],
   "source": [
    "# 剔除列 sumx\n",
    "df <- df[!names(df) == \"sumx\"]\n",
    "df"
   ]
  },
  {
   "cell_type": "code",
   "execution_count": 7,
   "metadata": {
    "collapsed": false
   },
   "outputs": [
    {
     "data": {
      "text/html": [
       "<table>\n",
       "<thead><tr><th scope=col>x1</th><th scope=col>x2</th></tr></thead>\n",
       "<tbody>\n",
       "\t<tr><td>1</td><td>2</td></tr>\n",
       "\t<tr><td>3</td><td>4</td></tr>\n",
       "\t<tr><td>5</td><td>6</td></tr>\n",
       "</tbody>\n",
       "</table>\n"
      ],
      "text/latex": [
       "\\begin{tabular}{r|ll}\n",
       " x1 & x2\\\\\n",
       "\\hline\n",
       "\t 1 & 2\\\\\n",
       "\t 3 & 4\\\\\n",
       "\t 5 & 6\\\\\n",
       "\\end{tabular}\n"
      ],
      "text/markdown": [
       "\n",
       "x1 | x2 | \n",
       "|---|---|---|\n",
       "| 1 | 2 | \n",
       "| 3 | 4 | \n",
       "| 5 | 6 | \n",
       "\n",
       "\n"
      ],
      "text/plain": [
       "  x1 x2\n",
       "1 1  2 \n",
       "2 3  4 \n",
       "3 5  6 "
      ]
     },
     "metadata": {},
     "output_type": "display_data"
    }
   ],
   "source": [
    "# 剔除第三列\n",
    "df <- df[-c(3)]  # 或者 df[c(-3)]\n",
    "df"
   ]
  },
  {
   "cell_type": "markdown",
   "metadata": {},
   "source": [
    "至于选取行，与列的操作方式是类似的："
   ]
  },
  {
   "cell_type": "code",
   "execution_count": 8,
   "metadata": {
    "collapsed": false
   },
   "outputs": [
    {
     "data": {
      "text/html": [
       "<table>\n",
       "<thead><tr><th></th><th scope=col>x1</th><th scope=col>x2</th></tr></thead>\n",
       "<tbody>\n",
       "\t<tr><th scope=row>2</th><td>3</td><td>4</td></tr>\n",
       "\t<tr><th scope=row>3</th><td>5</td><td>6</td></tr>\n",
       "</tbody>\n",
       "</table>\n"
      ],
      "text/latex": [
       "\\begin{tabular}{r|ll}\n",
       "  & x1 & x2\\\\\n",
       "\\hline\n",
       "\t2 & 3 & 4\\\\\n",
       "\t3 & 5 & 6\\\\\n",
       "\\end{tabular}\n"
      ],
      "text/markdown": [
       "\n",
       "| <!--/--> | x1 | x2 | \n",
       "|---|---|\n",
       "| 2 | 3 | 4 | \n",
       "| 3 | 5 | 6 | \n",
       "\n",
       "\n"
      ],
      "text/plain": [
       "  x1 x2\n",
       "2 3  4 \n",
       "3 5  6 "
      ]
     },
     "metadata": {},
     "output_type": "display_data"
    }
   ],
   "source": [
    "# 选取 x1>2 且 x2为偶数的观测（行）\n",
    "df[df$x1 > 2 & df$x2 %% 2 ==0,]"
   ]
  },
  {
   "cell_type": "markdown",
   "metadata": {},
   "source": [
    "再介绍一个 subset() 指令，非常简单粗暴。先来一个复杂点的数据集："
   ]
  },
  {
   "cell_type": "code",
   "execution_count": 9,
   "metadata": {
    "collapsed": false
   },
   "outputs": [
    {
     "data": {
      "text/html": [
       "<table>\n",
       "<thead><tr><th scope=col>age</th><th scope=col>gender</th><th scope=col>q1</th><th scope=col>q2</th><th scope=col>q3</th></tr></thead>\n",
       "<tbody>\n",
       "\t<tr><td>22    </td><td>Male  </td><td>1     </td><td>4     </td><td>3     </td></tr>\n",
       "\t<tr><td>37    </td><td>Female</td><td>5     </td><td>4     </td><td>2     </td></tr>\n",
       "\t<tr><td>28    </td><td>Male  </td><td>3     </td><td>5     </td><td>4     </td></tr>\n",
       "\t<tr><td>33    </td><td>Female</td><td>3     </td><td>3     </td><td>3     </td></tr>\n",
       "\t<tr><td>43    </td><td>Male  </td><td>2     </td><td>1     </td><td>1     </td></tr>\n",
       "</tbody>\n",
       "</table>\n"
      ],
      "text/latex": [
       "\\begin{tabular}{r|lllll}\n",
       " age & gender & q1 & q2 & q3\\\\\n",
       "\\hline\n",
       "\t 22     & Male   & 1      & 4      & 3     \\\\\n",
       "\t 37     & Female & 5      & 4      & 2     \\\\\n",
       "\t 28     & Male   & 3      & 5      & 4     \\\\\n",
       "\t 33     & Female & 3      & 3      & 3     \\\\\n",
       "\t 43     & Male   & 2      & 1      & 1     \\\\\n",
       "\\end{tabular}\n"
      ],
      "text/markdown": [
       "\n",
       "age | gender | q1 | q2 | q3 | \n",
       "|---|---|---|---|---|\n",
       "| 22     | Male   | 1      | 4      | 3      | \n",
       "| 37     | Female | 5      | 4      | 2      | \n",
       "| 28     | Male   | 3      | 5      | 4      | \n",
       "| 33     | Female | 3      | 3      | 3      | \n",
       "| 43     | Male   | 2      | 1      | 1      | \n",
       "\n",
       "\n"
      ],
      "text/plain": [
       "  age gender q1 q2 q3\n",
       "1 22  Male   1  4  3 \n",
       "2 37  Female 5  4  2 \n",
       "3 28  Male   3  5  4 \n",
       "4 33  Female 3  3  3 \n",
       "5 43  Male   2  1  1 "
      ]
     },
     "metadata": {},
     "output_type": "display_data"
    }
   ],
   "source": [
    "DF <- data.frame(age    = c(22, 37, 28, 33, 43),\n",
    "                 gender = c(1, 2, 1, 2, 1),\n",
    "                 q1     = c(1, 5, 3, 3, 2),\n",
    "                 q2     = c(4, 4, 5, 3, 1),\n",
    "                 q3     = c(3, 2, 4, 3, 1))\n",
    "DF$gender <- factor(DF$gender, labels=c(\"Male\", \"Female\"))\n",
    "\n",
    "DF"
   ]
  },
  {
   "cell_type": "code",
   "execution_count": 10,
   "metadata": {
    "collapsed": false
   },
   "outputs": [
    {
     "data": {
      "text/html": [
       "<table>\n",
       "<thead><tr><th></th><th scope=col>age</th><th scope=col>gender</th><th scope=col>q1</th><th scope=col>q2</th></tr></thead>\n",
       "<tbody>\n",
       "\t<tr><th scope=row>2</th><td>37    </td><td>Female</td><td>5     </td><td>4     </td></tr>\n",
       "\t<tr><th scope=row>3</th><td>28    </td><td>Male  </td><td>3     </td><td>5     </td></tr>\n",
       "\t<tr><th scope=row>4</th><td>33    </td><td>Female</td><td>3     </td><td>3     </td></tr>\n",
       "</tbody>\n",
       "</table>\n"
      ],
      "text/latex": [
       "\\begin{tabular}{r|llll}\n",
       "  & age & gender & q1 & q2\\\\\n",
       "\\hline\n",
       "\t2 & 37     & Female & 5      & 4     \\\\\n",
       "\t3 & 28     & Male   & 3      & 5     \\\\\n",
       "\t4 & 33     & Female & 3      & 3     \\\\\n",
       "\\end{tabular}\n"
      ],
      "text/markdown": [
       "\n",
       "| <!--/--> | age | gender | q1 | q2 | \n",
       "|---|---|---|\n",
       "| 2 | 37     | Female | 5      | 4      | \n",
       "| 3 | 28     | Male   | 3      | 5      | \n",
       "| 4 | 33     | Female | 3      | 3      | \n",
       "\n",
       "\n"
      ],
      "text/plain": [
       "  age gender q1 q2\n",
       "2 37  Female 5  4 \n",
       "3 28  Male   3  5 \n",
       "4 33  Female 3  3 "
      ]
     },
     "metadata": {},
     "output_type": "display_data"
    }
   ],
   "source": [
    "# 选中年龄介于 25 与 40 之间的观测\n",
    "# 并只保留变量 age 到 q2\n",
    "subset(DF, age > 25 & age < 40, select=age:q2)"
   ]
  },
  {
   "cell_type": "markdown",
   "metadata": {},
   "source": [
    "#### 横向合并\n",
    "\n",
    "如果你有两个**行数相同**的数据框，你可以使用 merge() 将其进行内联合并（inner join），他们将通过一个或多个共有的变量进行合并。"
   ]
  },
  {
   "cell_type": "code",
   "execution_count": 11,
   "metadata": {
    "collapsed": false
   },
   "outputs": [
    {
     "data": {
      "text/html": [
       "<table>\n",
       "<thead><tr><th scope=col>ID</th><th scope=col>Sym</th><th scope=col>Oprtr.x</th><th scope=col>Oprtr.y</th></tr></thead>\n",
       "<tbody>\n",
       "\t<tr><td>1</td><td>A</td><td>x</td><td>x</td></tr>\n",
       "\t<tr><td>2</td><td>B</td><td>y</td><td>z</td></tr>\n",
       "\t<tr><td>3</td><td>C</td><td>z</td><td>y</td></tr>\n",
       "</tbody>\n",
       "</table>\n"
      ],
      "text/latex": [
       "\\begin{tabular}{r|llll}\n",
       " ID & Sym & Oprtr.x & Oprtr.y\\\\\n",
       "\\hline\n",
       "\t 1 & A & x & x\\\\\n",
       "\t 2 & B & y & z\\\\\n",
       "\t 3 & C & z & y\\\\\n",
       "\\end{tabular}\n"
      ],
      "text/markdown": [
       "\n",
       "ID | Sym | Oprtr.x | Oprtr.y | \n",
       "|---|---|---|\n",
       "| 1 | A | x | x | \n",
       "| 2 | B | y | z | \n",
       "| 3 | C | z | y | \n",
       "\n",
       "\n"
      ],
      "text/plain": [
       "  ID Sym Oprtr.x Oprtr.y\n",
       "1 1  A   x       x      \n",
       "2 2  B   y       z      \n",
       "3 3  C   z       y      "
      ]
     },
     "metadata": {},
     "output_type": "display_data"
    }
   ],
   "source": [
    "df1 <- data.frame(ID=c(1, 2, 3), Sym=c(\"A\", \"B\", \"C\"), Oprtr=c(\"x\", \"y\", \"z\"))\n",
    "df2 <- data.frame(ID=c(1, 3, 2), Oprtr=c(\"x\", \"y\", \"z\"))\n",
    "\n",
    "# 按 ID 列合并\n",
    "merge(df1, df2, by=\"ID\")"
   ]
  },
  {
   "cell_type": "code",
   "execution_count": 12,
   "metadata": {
    "collapsed": false
   },
   "outputs": [
    {
     "data": {
      "text/html": [
       "<table>\n",
       "<thead><tr><th scope=col>ID</th><th scope=col>Oprtr</th><th scope=col>Sym</th></tr></thead>\n",
       "<tbody>\n",
       "\t<tr><td>1</td><td>x</td><td>A</td></tr>\n",
       "</tbody>\n",
       "</table>\n"
      ],
      "text/latex": [
       "\\begin{tabular}{r|lll}\n",
       " ID & Oprtr & Sym\\\\\n",
       "\\hline\n",
       "\t 1 & x & A\\\\\n",
       "\\end{tabular}\n"
      ],
      "text/markdown": [
       "\n",
       "ID | Oprtr | Sym | \n",
       "|---|\n",
       "| 1 | x | A | \n",
       "\n",
       "\n"
      ],
      "text/plain": [
       "  ID Oprtr Sym\n",
       "1 1  x     A  "
      ]
     },
     "metadata": {},
     "output_type": "display_data"
    }
   ],
   "source": [
    "# 由于 ID 与 Oprtr 一致的只有一行，因此其余的都舍弃\n",
    "merge(df1, df2, by=c(\"ID\", \"Oprtr\"))"
   ]
  },
  {
   "cell_type": "markdown",
   "metadata": {},
   "source": [
    "或者直接用 cbind() 函数组合。"
   ]
  },
  {
   "cell_type": "code",
   "execution_count": 13,
   "metadata": {
    "collapsed": false
   },
   "outputs": [
    {
     "data": {
      "text/html": [
       "<table>\n",
       "<thead><tr><th scope=col>ID</th><th scope=col>Sym</th><th scope=col>Oprtr</th><th scope=col>ID</th><th scope=col>Oprtr</th></tr></thead>\n",
       "<tbody>\n",
       "\t<tr><td>1</td><td>A</td><td>x</td><td>1</td><td>x</td></tr>\n",
       "\t<tr><td>2</td><td>B</td><td>y</td><td>3</td><td>y</td></tr>\n",
       "\t<tr><td>3</td><td>C</td><td>z</td><td>2</td><td>z</td></tr>\n",
       "</tbody>\n",
       "</table>\n"
      ],
      "text/latex": [
       "\\begin{tabular}{r|lllll}\n",
       " ID & Sym & Oprtr & ID & Oprtr\\\\\n",
       "\\hline\n",
       "\t 1 & A & x & 1 & x\\\\\n",
       "\t 2 & B & y & 3 & y\\\\\n",
       "\t 3 & C & z & 2 & z\\\\\n",
       "\\end{tabular}\n"
      ],
      "text/markdown": [
       "\n",
       "ID | Sym | Oprtr | ID | Oprtr | \n",
       "|---|---|---|\n",
       "| 1 | A | x | 1 | x | \n",
       "| 2 | B | y | 3 | y | \n",
       "| 3 | C | z | 2 | z | \n",
       "\n",
       "\n"
      ],
      "text/plain": [
       "  ID Sym Oprtr ID Oprtr\n",
       "1 1  A   x     1  x    \n",
       "2 2  B   y     3  y    \n",
       "3 3  C   z     2  z    "
      ]
     },
     "metadata": {},
     "output_type": "display_data"
    }
   ],
   "source": [
    "# 直接组合。注意：列名相同的话，在按列名调用时右侧的会被忽略\n",
    "cbind(df1, df2)"
   ]
  },
  {
   "cell_type": "markdown",
   "metadata": {},
   "source": [
    "#### 纵向合并\n",
    "\n",
    "相当于追加观测。两个数据框必须有**相同的变量**，尽管顺序可以不同。如果两个数据框变量不同请：\n",
    "\n",
    "- 删除多余变量；\n",
    "- 在缺少变量的数据框中，追加同名变量并将其设为缺失值 NA。"
   ]
  },
  {
   "cell_type": "code",
   "execution_count": 14,
   "metadata": {
    "collapsed": false
   },
   "outputs": [
    {
     "data": {
      "text/html": [
       "<table>\n",
       "<thead><tr><th scope=col>ID</th><th scope=col>Sym</th><th scope=col>Oprtr</th></tr></thead>\n",
       "<tbody>\n",
       "\t<tr><td>1 </td><td>A </td><td>x </td></tr>\n",
       "\t<tr><td>2 </td><td>B </td><td>y </td></tr>\n",
       "\t<tr><td>3 </td><td>C </td><td>z </td></tr>\n",
       "\t<tr><td>1 </td><td>NA</td><td>x </td></tr>\n",
       "\t<tr><td>3 </td><td>NA</td><td>y </td></tr>\n",
       "\t<tr><td>2 </td><td>NA</td><td>z </td></tr>\n",
       "</tbody>\n",
       "</table>\n"
      ],
      "text/latex": [
       "\\begin{tabular}{r|lll}\n",
       " ID & Sym & Oprtr\\\\\n",
       "\\hline\n",
       "\t 1  & A  & x \\\\\n",
       "\t 2  & B  & y \\\\\n",
       "\t 3  & C  & z \\\\\n",
       "\t 1  & NA & x \\\\\n",
       "\t 3  & NA & y \\\\\n",
       "\t 2  & NA & z \\\\\n",
       "\\end{tabular}\n"
      ],
      "text/markdown": [
       "\n",
       "ID | Sym | Oprtr | \n",
       "|---|---|---|---|---|---|\n",
       "| 1  | A  | x  | \n",
       "| 2  | B  | y  | \n",
       "| 3  | C  | z  | \n",
       "| 1  | NA | x  | \n",
       "| 3  | NA | y  | \n",
       "| 2  | NA | z  | \n",
       "\n",
       "\n"
      ],
      "text/plain": [
       "  ID Sym Oprtr\n",
       "1 1  A   x    \n",
       "2 2  B   y    \n",
       "3 3  C   z    \n",
       "4 1  NA  x    \n",
       "5 3  NA  y    \n",
       "6 2  NA  z    "
      ]
     },
     "metadata": {},
     "output_type": "display_data"
    }
   ],
   "source": [
    "df1 <- data.frame(ID=c(1, 2, 3), Sym=c(\"A\", \"B\", \"C\"), Oprtr=c(\"x\", \"y\", \"z\"))\n",
    "df2 <- data.frame(ID=c(1, 3, 2), Oprtr=c(\"x\", \"y\", \"z\"))\n",
    "df2$Sym <- NA\n",
    "\n",
    "rbind(df1, df2)"
   ]
  },
  {
   "cell_type": "markdown",
   "metadata": {},
   "source": [
    "### 逻辑型筛选\n",
    "\n",
    "通过逻辑判断来过滤数据，或者选取数据子集，或者将子集作统一更改。在前面的一些例子中已经使用到了。"
   ]
  },
  {
   "cell_type": "code",
   "execution_count": 15,
   "metadata": {
    "collapsed": false
   },
   "outputs": [
    {
     "data": {
      "text/html": [
       "<table>\n",
       "<thead><tr><th scope=col>x1</th><th scope=col>x2</th><th scope=col>x3</th></tr></thead>\n",
       "<tbody>\n",
       "\t<tr><td>1 </td><td>2 </td><td>NA</td></tr>\n",
       "\t<tr><td>3 </td><td>4 </td><td> 8</td></tr>\n",
       "\t<tr><td>5 </td><td>6 </td><td>NA</td></tr>\n",
       "</tbody>\n",
       "</table>\n"
      ],
      "text/latex": [
       "\\begin{tabular}{r|lll}\n",
       " x1 & x2 & x3\\\\\n",
       "\\hline\n",
       "\t 1  & 2  & NA\\\\\n",
       "\t 3  & 4  &  8\\\\\n",
       "\t 5  & 6  & NA\\\\\n",
       "\\end{tabular}\n"
      ],
      "text/markdown": [
       "\n",
       "x1 | x2 | x3 | \n",
       "|---|---|---|\n",
       "| 1  | 2  | NA | \n",
       "| 3  | 4  |  8 | \n",
       "| 5  | 6  | NA | \n",
       "\n",
       "\n"
      ],
      "text/plain": [
       "  x1 x2 x3\n",
       "1 1  2  NA\n",
       "2 3  4   8\n",
       "3 5  6  NA"
      ]
     },
     "metadata": {},
     "output_type": "display_data"
    }
   ],
   "source": [
    "df$x3 <- c(7, 8, 9)\n",
    "# 把列 x3 中的奇数换成 NA\n",
    "df$x3[df$x3 %% 2 == 1] <- NA\n",
    "df"
   ]
  },
  {
   "cell_type": "code",
   "execution_count": 16,
   "metadata": {
    "collapsed": false
   },
   "outputs": [
    {
     "data": {
      "text/html": [
       "<table>\n",
       "<thead><tr><th scope=col>x1</th><th scope=col>x2</th><th scope=col>x3</th><th scope=col>y</th></tr></thead>\n",
       "<tbody>\n",
       "\t<tr><td>NaN </td><td>NaN </td><td>NA  </td><td>   7</td></tr>\n",
       "\t<tr><td>  3 </td><td>  4 </td><td> 8  </td><td>-Inf</td></tr>\n",
       "\t<tr><td>  5 </td><td>  6 </td><td>NA  </td><td> Inf</td></tr>\n",
       "</tbody>\n",
       "</table>\n"
      ],
      "text/latex": [
       "\\begin{tabular}{r|llll}\n",
       " x1 & x2 & x3 & y\\\\\n",
       "\\hline\n",
       "\t NaN  & NaN  & NA   &    7\\\\\n",
       "\t   3  &   4  &  8   & -Inf\\\\\n",
       "\t   5  &   6  & NA   &  Inf\\\\\n",
       "\\end{tabular}\n"
      ],
      "text/markdown": [
       "\n",
       "x1 | x2 | x3 | y | \n",
       "|---|---|---|\n",
       "| NaN  | NaN  | NA   |    7 | \n",
       "|   3  |   4  |  8   | -Inf | \n",
       "|   5  |   6  | NA   |  Inf | \n",
       "\n",
       "\n"
      ],
      "text/plain": [
       "  x1  x2  x3 y   \n",
       "1 NaN NaN NA    7\n",
       "2   3   4  8 -Inf\n",
       "3   5   6 NA  Inf"
      ]
     },
     "metadata": {},
     "output_type": "display_data"
    }
   ],
   "source": [
    "df$y <- c(7, 12, 27)\n",
    "# 把所有小于 3 的标记为 NaN\n",
    "# 把所有大于 10 的数按奇偶标记为正负Inf\n",
    "\n",
    "df[df < 3] <- NaN\n",
    "df[df > 10 & df %% 2 == 1] <- Inf\n",
    "df[df > 10 & df %% 2 == 0] <- -Inf\n",
    "df"
   ]
  },
  {
   "cell_type": "markdown",
   "metadata": {},
   "source": [
    "### 排序\n",
    "\n",
    "排序使用 order() 命令。"
   ]
  },
  {
   "cell_type": "code",
   "execution_count": 17,
   "metadata": {
    "collapsed": false
   },
   "outputs": [
    {
     "data": {
      "text/html": [
       "<table>\n",
       "<thead><tr><th></th><th scope=col>age</th><th scope=col>gender</th></tr></thead>\n",
       "<tbody>\n",
       "\t<tr><th scope=row>5</th><td>43    </td><td>Male  </td></tr>\n",
       "\t<tr><th scope=row>3</th><td>28    </td><td>Male  </td></tr>\n",
       "\t<tr><th scope=row>1</th><td>22    </td><td>Male  </td></tr>\n",
       "\t<tr><th scope=row>2</th><td>37    </td><td>Female</td></tr>\n",
       "\t<tr><th scope=row>4</th><td>33    </td><td>Female</td></tr>\n",
       "</tbody>\n",
       "</table>\n"
      ],
      "text/latex": [
       "\\begin{tabular}{r|ll}\n",
       "  & age & gender\\\\\n",
       "\\hline\n",
       "\t5 & 43     & Male  \\\\\n",
       "\t3 & 28     & Male  \\\\\n",
       "\t1 & 22     & Male  \\\\\n",
       "\t2 & 37     & Female\\\\\n",
       "\t4 & 33     & Female\\\\\n",
       "\\end{tabular}\n"
      ],
      "text/markdown": [
       "\n",
       "| <!--/--> | age | gender | \n",
       "|---|---|---|---|---|\n",
       "| 5 | 43     | Male   | \n",
       "| 3 | 28     | Male   | \n",
       "| 1 | 22     | Male   | \n",
       "| 2 | 37     | Female | \n",
       "| 4 | 33     | Female | \n",
       "\n",
       "\n"
      ],
      "text/plain": [
       "  age gender\n",
       "5 43  Male  \n",
       "3 28  Male  \n",
       "1 22  Male  \n",
       "2 37  Female\n",
       "4 33  Female"
      ]
     },
     "metadata": {},
     "output_type": "display_data"
    }
   ],
   "source": [
    "df <- data.frame(age   =c(22, 37, 28, 33, 43),\n",
    "                 gender=c(1, 2, 1, 2, 1))\n",
    "df$gender <- factor(df$gender, labels=c(\"Male\", \"Female\"))\n",
    "\n",
    "# 按gender升序排序，各gender内按age降序排序\n",
    "df[order(df$gender, -df$age),]"
   ]
  },
  {
   "cell_type": "markdown",
   "metadata": {},
   "source": [
    "### 随机抽样\n",
    "\n",
    "从已有的数据集中随机抽选样本是常见的做法。例如，其中一份用于构建预测模型，另一份用于验证模型。\n",
    "\n",
    "```{r}\n",
    "# 无放回地从 df 的所有观测中，抽取一个大小为 3 的样本\n",
    "df[sample(1:nrow(df), 3, replace=F)]\n",
    "```\n",
    "\n",
    "随机抽样的 R 包有 sampling 与 survey，如果可能我会在本系列下另建文章介绍。\n",
    "\n",
    "### SQL语句\n",
    "\n",
    "在 R 中，借助 sqldf 包可以直接用 SQL 语句操作数据框（data.frame）。一个来自书中的例子：\n",
    "\n",
    "```{r}\n",
    "newdf <- sqldf(\"select * from mtcars where carb=1 order by mpg\", row.names=TRUE)\n",
    "```\n",
    "\n",
    "这里就不过多涉及了。"
   ]
  },
  {
   "cell_type": "markdown",
   "metadata": {},
   "source": [
    "## 异常值处理\n",
    "\n",
    "异常值包括三类：\n",
    "\n",
    "- NA：缺失值。\n",
    "- Inf：正无穷。用 -Inf 表示负无穷。**无穷与数可以比较大小，**比如 -Inf < 3 为真。\n",
    "- NaN：非可能值。比如 0/0。\n",
    "\n",
    "使用 is.na() 函数判断数据集中是否存在 NA 或者 NaN，并返回矩阵。注意 NaN 会被判断为缺失值。"
   ]
  },
  {
   "cell_type": "code",
   "execution_count": 18,
   "metadata": {
    "collapsed": false
   },
   "outputs": [
    {
     "data": {
      "text/html": [
       "<table>\n",
       "<thead><tr><th scope=col>age</th><th scope=col>gender</th></tr></thead>\n",
       "<tbody>\n",
       "\t<tr><td>FALSE</td><td>FALSE</td></tr>\n",
       "\t<tr><td>FALSE</td><td>FALSE</td></tr>\n",
       "\t<tr><td>FALSE</td><td>FALSE</td></tr>\n",
       "\t<tr><td>FALSE</td><td>FALSE</td></tr>\n",
       "\t<tr><td>FALSE</td><td>FALSE</td></tr>\n",
       "</tbody>\n",
       "</table>\n"
      ],
      "text/latex": [
       "\\begin{tabular}{ll}\n",
       " age & gender\\\\\n",
       "\\hline\n",
       "\t FALSE & FALSE\\\\\n",
       "\t FALSE & FALSE\\\\\n",
       "\t FALSE & FALSE\\\\\n",
       "\t FALSE & FALSE\\\\\n",
       "\t FALSE & FALSE\\\\\n",
       "\\end{tabular}\n"
      ],
      "text/markdown": [
       "\n",
       "age | gender | \n",
       "|---|---|---|---|---|\n",
       "| FALSE | FALSE | \n",
       "| FALSE | FALSE | \n",
       "| FALSE | FALSE | \n",
       "| FALSE | FALSE | \n",
       "| FALSE | FALSE | \n",
       "\n",
       "\n"
      ],
      "text/plain": [
       "     age   gender\n",
       "[1,] FALSE FALSE \n",
       "[2,] FALSE FALSE \n",
       "[3,] FALSE FALSE \n",
       "[4,] FALSE FALSE \n",
       "[5,] FALSE FALSE "
      ]
     },
     "metadata": {},
     "output_type": "display_data"
    }
   ],
   "source": [
    "is.na(df)"
   ]
  },
  {
   "cell_type": "markdown",
   "metadata": {},
   "source": [
    "另外也有类似的函数来判断 Inf 与 NaN，但只能对一维数据集使用："
   ]
  },
  {
   "cell_type": "code",
   "execution_count": 19,
   "metadata": {
    "collapsed": false
   },
   "outputs": [
    {
     "name": "stdout",
     "output_type": "stream",
     "text": [
      "[1]  TRUE  TRUE FALSE\n"
     ]
    }
   ],
   "source": [
    "print(c(is.infinite(c(Inf, -Inf)), is.nan(NA)))"
   ]
  },
  {
   "cell_type": "markdown",
   "metadata": {},
   "source": [
    "在进行数据处理之前，处理 NA 缺失值是必须的步骤。如果某些数值过于离群，你也可能需要将其标记为 NA 。行移除是最简单粗暴的处理方法。"
   ]
  },
  {
   "cell_type": "code",
   "execution_count": 20,
   "metadata": {
    "collapsed": false
   },
   "outputs": [
    {
     "data": {
      "text/html": [
       "<table>\n",
       "<thead><tr><th scope=col>age</th><th scope=col>gender</th></tr></thead>\n",
       "<tbody>\n",
       "\t<tr><td>22    </td><td>Male  </td></tr>\n",
       "\t<tr><td>37    </td><td>Female</td></tr>\n",
       "\t<tr><td>28    </td><td>Male  </td></tr>\n",
       "\t<tr><td>33    </td><td>Female</td></tr>\n",
       "\t<tr><td>43    </td><td>Male  </td></tr>\n",
       "</tbody>\n",
       "</table>\n"
      ],
      "text/latex": [
       "\\begin{tabular}{r|ll}\n",
       " age & gender\\\\\n",
       "\\hline\n",
       "\t 22     & Male  \\\\\n",
       "\t 37     & Female\\\\\n",
       "\t 28     & Male  \\\\\n",
       "\t 33     & Female\\\\\n",
       "\t 43     & Male  \\\\\n",
       "\\end{tabular}\n"
      ],
      "text/markdown": [
       "\n",
       "age | gender | \n",
       "|---|---|---|---|---|\n",
       "| 22     | Male   | \n",
       "| 37     | Female | \n",
       "| 28     | Male   | \n",
       "| 33     | Female | \n",
       "| 43     | Male   | \n",
       "\n",
       "\n"
      ],
      "text/plain": [
       "  age gender\n",
       "1 22  Male  \n",
       "2 37  Female\n",
       "3 28  Male  \n",
       "4 33  Female\n",
       "5 43  Male  "
      ]
     },
     "metadata": {},
     "output_type": "display_data"
    }
   ],
   "source": [
    "# NA 行移除\n",
    "df <- na.omit(df)\n",
    "df"
   ]
  }
 ],
 "metadata": {
  "kernelspec": {
   "display_name": "R",
   "language": "R",
   "name": "ir"
  },
  "language_info": {
   "codemirror_mode": "r",
   "file_extension": ".r",
   "mimetype": "text/x-r-source",
   "name": "R",
   "pygments_lexer": "r",
   "version": "3.3.2"
  }
 },
 "nbformat": 4,
 "nbformat_minor": 2
}
